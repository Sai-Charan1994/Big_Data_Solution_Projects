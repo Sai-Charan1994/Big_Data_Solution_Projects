{
 "cells": [
  {
   "cell_type": "code",
   "execution_count": 0,
   "metadata": {
    "application/vnd.databricks.v1+cell": {
     "cellMetadata": {
      "byteLimit": 2048000,
      "rowLimit": 10000
     },
     "inputWidgets": {},
     "nuid": "e3aae55a-8dee-4d95-b391-d894d04081ac",
     "showTitle": false,
     "title": ""
    }
   },
   "outputs": [],
   "source": [
    "from pyspark.sql.functions import col, split, to_date\n",
    "from pyspark.sql.types import *\n",
    "from pyspark.sql.functions import *\n",
    "from pyspark.sql.functions import round\n",
    "from pyspark.sql.functions import sum\n"
   ]
  },
  {
   "cell_type": "code",
   "execution_count": 0,
   "metadata": {
    "application/vnd.databricks.v1+cell": {
     "cellMetadata": {
      "byteLimit": 2048000,
      "rowLimit": 10000
     },
     "inputWidgets": {},
     "nuid": "9a727658-f93b-4a15-b5fc-be2a2c57ad76",
     "showTitle": false,
     "title": ""
    }
   },
   "outputs": [
    {
     "output_type": "display_data",
     "data": {
      "text/html": [
       "\n",
       "            <div>\n",
       "                <p><b>SparkSession - hive</b></p>\n",
       "                \n",
       "        <div>\n",
       "            <p><b>SparkContext</b></p>\n",
       "\n",
       "            <p><a href=\"/?o=5808653799931466#setting/sparkui/0804-051944-sxjochu9/driver-6319503146952588728\">Spark UI</a></p>\n",
       "\n",
       "            <dl>\n",
       "              <dt>Version</dt>\n",
       "                <dd><code>v3.3.2</code></dd>\n",
       "              <dt>Master</dt>\n",
       "                <dd><code>local[*, 4]</code></dd>\n",
       "              <dt>AppName</dt>\n",
       "                <dd><code>Databricks Shell</code></dd>\n",
       "            </dl>\n",
       "        </div>\n",
       "        \n",
       "            </div>\n",
       "        "
      ]
     },
     "metadata": {
      "application/vnd.databricks.v1+output": {
       "addedWidgets": {},
       "arguments": {},
       "data": "\n            <div>\n                <p><b>SparkSession - hive</b></p>\n                \n        <div>\n            <p><b>SparkContext</b></p>\n\n            <p><a href=\"/?o=5808653799931466#setting/sparkui/0804-051944-sxjochu9/driver-6319503146952588728\">Spark UI</a></p>\n\n            <dl>\n              <dt>Version</dt>\n                <dd><code>v3.3.2</code></dd>\n              <dt>Master</dt>\n                <dd><code>local[*, 4]</code></dd>\n              <dt>AppName</dt>\n                <dd><code>Databricks Shell</code></dd>\n            </dl>\n        </div>\n        \n            </div>\n        ",
       "datasetInfos": [],
       "metadata": {},
       "removedWidgets": [],
       "textData": null,
       "type": "htmlSandbox"
      }
     },
     "output_type": "display_data"
    }
   ],
   "source": [
    "spark"
   ]
  },
  {
   "cell_type": "markdown",
   "metadata": {
    "application/vnd.databricks.v1+cell": {
     "cellMetadata": {},
     "inputWidgets": {},
     "nuid": "d8df8f60-8813-4a74-8943-a1495ffcc8a7",
     "showTitle": false,
     "title": ""
    }
   },
   "source": [
    "### Mounting the data bricks with ADLS"
   ]
  },
  {
   "cell_type": "code",
   "execution_count": 0,
   "metadata": {
    "application/vnd.databricks.v1+cell": {
     "cellMetadata": {
      "byteLimit": 2048000,
      "rowLimit": 10000
     },
     "inputWidgets": {},
     "nuid": "e57e43b5-4d0e-468e-a23b-b67cf3be38de",
     "showTitle": false,
     "title": ""
    }
   },
   "outputs": [
    {
     "output_type": "stream",
     "name": "stdout",
     "output_type": "stream",
     "text": [
      "Out[2]: [MountInfo(mountPoint='/databricks-datasets', source='databricks-datasets', encryptionType=''),\n MountInfo(mountPoint='/Volumes', source='UnityCatalogVolumes', encryptionType=''),\n MountInfo(mountPoint='/mnt/mount1', source='wasbs://newcont@adlsraj2.blob.core.windows.net', encryptionType=''),\n MountInfo(mountPoint='/databricks/mlflow-tracking', source='databricks/mlflow-tracking', encryptionType=''),\n MountInfo(mountPoint='/mnt/mount_point_case_study', source='wasbs://wallmart@adlsraj2.blob.core.windows.net', encryptionType=''),\n MountInfo(mountPoint='/mnt/mount_point_sas', source='wasbs://newcont@adlsraj2.blob.core.windows.net', encryptionType=''),\n MountInfo(mountPoint='/databricks-results', source='databricks-results', encryptionType=''),\n MountInfo(mountPoint='/mnt/mount_point1', source='wasbs://newcont@adlsraj2.blob.core.windows.net', encryptionType=''),\n MountInfo(mountPoint='/databricks/mlflow-registry', source='databricks/mlflow-registry', encryptionType=''),\n MountInfo(mountPoint='/mnt/mount_point7', source='wasbs://containerx@kousiklokeshstorage.blob.core.windows.net', encryptionType=''),\n MountInfo(mountPoint='/mnt/mount2', source='wasbs://newcont@adlsraj2.blob.core.windows.net', encryptionType=''),\n MountInfo(mountPoint='/mnt/project_mount/', source='wasbs://project@adlsacid.blob.core.windows.net', encryptionType=''),\n MountInfo(mountPoint='/Volume', source='DbfsReserved', encryptionType=''),\n MountInfo(mountPoint='/mnt/mount_acid', source='wasbs://contx@adlsacid.blob.core.windows.net', encryptionType=''),\n MountInfo(mountPoint='/mnt/projectnew_mount/', source='wasbs://test@adlsacid.blob.core.windows.net', encryptionType=''),\n MountInfo(mountPoint='/volumes', source='DbfsReserved', encryptionType=''),\n MountInfo(mountPoint='/mnt/project_mount1/', source='wasbs://project@adlsacid.blob.core.windows.net', encryptionType=''),\n MountInfo(mountPoint='/', source='DatabricksRoot', encryptionType=''),\n MountInfo(mountPoint='/mnt/mount_acid_new', source='wasbs://contx@adlsacid.blob.core.windows.net', encryptionType=''),\n MountInfo(mountPoint='/volume', source='DbfsReserved', encryptionType='')]"
     ]
    }
   ],
   "source": [
    "dbutils.fs.mounts()"
   ]
  },
  {
   "cell_type": "code",
   "execution_count": 0,
   "metadata": {
    "application/vnd.databricks.v1+cell": {
     "cellMetadata": {
      "byteLimit": 2048000,
      "rowLimit": 10000
     },
     "inputWidgets": {},
     "nuid": "9154ee7f-205e-43e8-aad8-864450a53d43",
     "showTitle": false,
     "title": ""
    }
   },
   "outputs": [
    {
     "output_type": "stream",
     "name": "stdout",
     "output_type": "stream",
     "text": [
      "Out[111]: True"
     ]
    }
   ],
   "source": [
    "\n",
    "# try :\n",
    "\n",
    "#  dbutils.fs.mount(\n",
    "#     source= 'wasbs://test@adlsacid.blob.core.windows.net',\n",
    "#     #//container_name@account_name\n",
    "#     mount_point ='/mnt/projectnew_mount/',\n",
    "#     extra_configs= {\n",
    "#         #dictonary keywill be url, value will be key of the storage account in azure \n",
    "#           \"fs.azure.account.key.adlsacid.blob.core.windows.net\":\"PLQ88zVYwXYLD+EKLei7rvyMRAtprs9Y6Z7TeIJ1Q0bNkr4YmzN0pCmUh1Vxwd35dTW4WKPZ/gHY+ASt3Cypjw==\"\n",
    "#     }\n",
    "# )\n",
    "# else :\n",
    "#     dbutils.fs.unmount('/mnt/projectnew_mount')\n"
   ]
  },
  {
   "cell_type": "code",
   "execution_count": 0,
   "metadata": {
    "application/vnd.databricks.v1+cell": {
     "cellMetadata": {
      "byteLimit": 2048000,
      "rowLimit": 10000
     },
     "inputWidgets": {},
     "nuid": "86e56a0b-2771-4cd5-8aa3-d895ad1c3513",
     "showTitle": false,
     "title": ""
    }
   },
   "outputs": [
    {
     "output_type": "stream",
     "name": "stdout",
     "output_type": "stream",
     "text": [
      "Error: An error occurred while calling o1711.mount.\n: java.rmi.RemoteException: java.lang.IllegalArgumentException: requirement failed: Directory already mounted: /mnt/projectnew_mount; nested exception is: \n\tjava.lang.IllegalArgumentException: requirement failed: Directory already mounted: /mnt/projectnew_mount\n\tat com.databricks.backend.daemon.data.client.DbfsClient.send0(DbfsClient.scala:135)\n\tat com.databricks.backend.daemon.data.client.DbfsClient.sendIdempotent(DbfsClient.scala:69)\n\tat com.databricks.backend.daemon.dbutils.DBUtilsCore.createOrUpdateMount(DBUtilsCore.scala:1025)\n\tat com.databricks.backend.daemon.dbutils.DBUtilsCore.$anonfun$mount$1(DBUtilsCore.scala:1051)\n\tat com.databricks.logging.UsageLogging.$anonfun$recordOperation$1(UsageLogging.scala:555)\n\tat com.databricks.logging.UsageLogging.executeThunkAndCaptureResultTags$1(UsageLogging.scala:650)\n\tat com.databricks.logging.UsageLogging.$anonfun$recordOperationWithResultTags$4(UsageLogging.scala:671)\n\tat com.databricks.logging.UsageLogging.$anonfun$withAttributionContext$1(UsageLogging.scala:412)\n\tat scala.util.DynamicVariable.withValue(DynamicVariable.scala:62)\n\tat com.databricks.logging.AttributionContext$.withValue(AttributionContext.scala:158)\n\tat com.databricks.logging.UsageLogging.withAttributionContext(UsageLogging.scala:410)\n\tat com.databricks.logging.UsageLogging.withAttributionContext$(UsageLogging.scala:407)\n\tat com.databricks.backend.daemon.dbutils.FSUtils.withAttributionContext(DBUtilsCore.scala:69)\n\tat com.databricks.logging.UsageLogging.withAttributionTags(UsageLogging.scala:455)\n\tat com.databricks.logging.UsageLogging.withAttributionTags$(UsageLogging.scala:440)\n\tat com.databricks.backend.daemon.dbutils.FSUtils.withAttributionTags(DBUtilsCore.scala:69)\n\tat com.databricks.logging.UsageLogging.recordOperationWithResultTags(UsageLogging.scala:645)\n\tat com.databricks.logging.UsageLogging.recordOperationWithResultTags$(UsageLogging.scala:564)\n\tat com.databricks.backend.daemon.dbutils.FSUtils.recordOperationWithResultTags(DBUtilsCore.scala:69)\n\tat com.databricks.logging.UsageLogging.recordOperation(UsageLogging.scala:555)\n\tat com.databricks.logging.UsageLogging.recordOperation$(UsageLogging.scala:525)\n\tat com.databricks.backend.daemon.dbutils.FSUtils.recordOperation(DBUtilsCore.scala:69)\n\tat com.databricks.backend.daemon.dbutils.FSUtils.recordDbutilsFsOp(DBUtilsCore.scala:133)\n\tat com.databricks.backend.daemon.dbutils.DBUtilsCore.mount(DBUtilsCore.scala:1045)\n\tat sun.reflect.NativeMethodAccessorImpl.invoke0(Native Method)\n\tat sun.reflect.NativeMethodAccessorImpl.invoke(NativeMethodAccessorImpl.java:62)\n\tat sun.reflect.DelegatingMethodAccessorImpl.invoke(DelegatingMethodAccessorImpl.java:43)\n\tat java.lang.reflect.Method.invoke(Method.java:498)\n\tat py4j.reflection.MethodInvoker.invoke(MethodInvoker.java:244)\n\tat py4j.reflection.ReflectionEngine.invoke(ReflectionEngine.java:380)\n\tat py4j.Gateway.invoke(Gateway.java:306)\n\tat py4j.commands.AbstractCommand.invokeMethod(AbstractCommand.java:132)\n\tat py4j.commands.CallCommand.execute(CallCommand.java:79)\n\tat py4j.ClientServerConnection.waitForCommands(ClientServerConnection.java:195)\n\tat py4j.ClientServerConnection.run(ClientServerConnection.java:115)\n\tat java.lang.Thread.run(Thread.java:750)\nCaused by: java.lang.IllegalArgumentException: requirement failed: Directory already mounted: /mnt/projectnew_mount\n\tat scala.Predef$.require(Predef.scala:281)\n\tat com.databricks.backend.daemon.data.server.DefaultMetadataManager.$anonfun$insertMount$1(MetadataManager.scala:580)\n\tat com.databricks.backend.daemon.data.server.DefaultMetadataManager.$anonfun$modifyAndVerify$2(MetadataManager.scala:948)\n\tat scala.runtime.java8.JFunction0$mcV$sp.apply(JFunction0$mcV$sp.java:23)\n\tat com.databricks.backend.daemon.data.server.DefaultMetadataManager.withRetries(MetadataManager.scala:729)\n\tat com.databricks.backend.daemon.data.server.DefaultMetadataManager.modifyAndVerify(MetadataManager.scala:937)\n\tat com.databricks.backend.daemon.data.server.DefaultMetadataManager.insertMount(MetadataManager.scala:588)\n\tat com.databricks.backend.daemon.data.server.handler.MountHandler.receive(MountHandler.scala:120)\n\tat com.databricks.backend.daemon.data.server.session.SessionContext.$anonfun$queryHandlers$1(SessionContext.scala:54)\n\tat com.databricks.backend.daemon.data.server.session.SessionContext.$anonfun$queryHandlers$1$adapted(SessionContext.scala:53)\n\tat scala.collection.immutable.List.foreach(List.scala:431)\n\tat com.databricks.backend.daemon.data.server.session.SessionContext.queryHandlers(SessionContext.scala:53)\n\tat com.databricks.backend.daemon.data.server.DbfsServerBackend$$anonfun$receive$4.$anonfun$applyOrElse$5(DbfsServerBackend.scala:387)\n\tat com.databricks.logging.UsageLogging.$anonfun$withAttributionContext$1(UsageLogging.scala:426)\n\tat scala.util.DynamicVariable.withValue(DynamicVariable.scala:62)\n\tat com.databricks.logging.AttributionContext$.withValue(AttributionContext.scala:196)\n\tat com.databricks.logging.UsageLogging.withAttributionContext(UsageLogging.scala:424)\n\tat com.databricks.logging.UsageLogging.withAttributionContext$(UsageLogging.scala:418)\n\tat com.databricks.rpc.ServerBackend.withAttributionContext(ServerBackend.scala:22)\n\tat com.databricks.logging.UsageLogging.withAttributionTags(UsageLogging.scala:470)\n\tat com.databricks.logging.UsageLogging.withAttributionTags$(UsageLogging.scala:455)\n\tat com.databricks.rpc.ServerBackend.withAttributionTags(ServerBackend.scala:22)\n\tat com.databricks.backend.daemon.data.server.DbfsServerBackend$$anonfun$receive$4.applyOrElse(DbfsServerBackend.scala:387)\n\tat com.databricks.backend.daemon.data.server.DbfsServerBackend$$anonfun$receive$4.applyOrElse(DbfsServerBackend.scala:331)\n\tat com.databricks.rpc.ServerBackend.$anonfun$internalReceive0$2(ServerBackend.scala:174)\n\tat com.databricks.rpc.ServerBackend$$anonfun$commonReceive$1.applyOrElse(ServerBackend.scala:200)\n\tat com.databricks.rpc.ServerBackend$$anonfun$commonReceive$1.applyOrElse(ServerBackend.scala:200)\n\tat com.databricks.rpc.ServerBackend.internalReceive0(ServerBackend.scala:171)\n\tat com.databricks.rpc.ServerBackend.$anonfun$internalReceive$1(ServerBackend.scala:147)\n\tat com.databricks.logging.UsageLogging.$anonfun$recordOperation$1(UsageLogging.scala:571)\n\tat com.databricks.logging.UsageLogging.executeThunkAndCaptureResultTags$1(UsageLogging.scala:666)\n\tat com.databricks.logging.UsageLogging.$anonfun$recordOperationWithResultTags$4(UsageLogging.scala:684)\n\tat com.databricks.logging.UsageLogging.$anonfun$withAttributionContext$1(UsageLogging.scala:426)\n\tat scala.util.DynamicVariable.withValue(DynamicVariable.scala:62)\n\tat com.databricks.logging.AttributionContext$.withValue(AttributionContext.scala:196)\n\tat com.databricks.logging.UsageLogging.withAttributionContext(UsageLogging.scala:424)\n\tat com.databricks.logging.UsageLogging.withAttributionContext$(UsageLogging.scala:418)\n\tat com.databricks.rpc.ServerBackend.withAttributionContext(ServerBackend.scala:22)\n\tat com.databricks.logging.UsageLogging.withAttributionTags(UsageLogging.scala:470)\n\tat com.databricks.logging.UsageLogging.withAttributionTags$(UsageLogging.scala:455)\n\tat com.databricks.rpc.ServerBackend.withAttributionTags(ServerBackend.scala:22)\n\tat com.databricks.logging.UsageLogging.recordOperationWithResultTags(UsageLogging.scala:661)\n\tat com.databricks.logging.UsageLogging.recordOperationWithResultTags$(UsageLogging.scala:580)\n\tat com.databricks.rpc.ServerBackend.recordOperationWithResultTags(ServerBackend.scala:22)\n\tat com.databricks.logging.UsageLogging.recordOperation(UsageLogging.scala:571)\n\tat com.databricks.logging.UsageLogging.recordOperation$(UsageLogging.scala:540)\n\tat com.databricks.rpc.ServerBackend.recordOperation(ServerBackend.scala:22)\n\tat com.databricks.rpc.ServerBackend.internalReceive(ServerBackend.scala:147)\n\tat com.databricks.rpc.JettyServer$RequestManager.handleRPC(JettyServer.scala:1037)\n\tat com.databricks.rpc.JettyServer$RequestManager.handleRequestAndRespond(JettyServer.scala:948)\n\tat com.databricks.rpc.JettyServer$RequestManager.$anonfun$handleHttp$6(JettyServer.scala:540)\n\tat com.databricks.rpc.JettyServer$RequestManager.$anonfun$handleHttp$6$adapted(JettyServer.scala:515)\n\tat com.databricks.logging.activity.ActivityContextFactory$.$anonfun$withActivityInternal$3(ActivityContextFactory.scala:420)\n\tat com.databricks.logging.UsageLogging.$anonfun$withAttributionContext$1(UsageLogging.scala:426)\n\tat scala.util.DynamicVariable.withValue(DynamicVariable.scala:62)\n\tat com.databricks.logging.AttributionContext$.withValue(AttributionContext.scala:196)\n\tat com.databricks.logging.UsageLogging.withAttributionContext(UsageLogging.scala:424)\n\tat com.databricks.logging.UsageLogging.withAttributionContext$(UsageLogging.scala:418)\n\tat com.databricks.logging.activity.ActivityContextFactory$.withAttributionContext(ActivityContextFactory.scala:55)\n\tat com.databricks.logging.activity.ActivityContextFactory$.withActivityInternal(ActivityContextFactory.scala:420)\n\tat com.databricks.logging.activity.ActivityContextFactory$.withServiceRequestActivity(ActivityContextFactory.scala:179)\n\tat com.databricks.rpc.JettyServer$RequestManager.handleHttp(JettyServer.scala:515)\n\tat com.databricks.rpc.JettyServer$RequestManager.doPost(JettyServer.scala:404)\n\tat javax.servlet.http.HttpServlet.service(HttpServlet.java:707)\n\tat com.databricks.rpc.HttpServletWithPatch.service(HttpServletWithPatch.scala:33)\n\tat javax.servlet.http.HttpServlet.service(HttpServlet.java:790)\n\tat org.eclipse.jetty.servlet.ServletHolder.handle(ServletHolder.java:848)\n\tat org.eclipse.jetty.servlet.ServletHandler.doHandle(ServletHandler.java:585)\n\tat org.eclipse.jetty.servlet.ServletHandler.doScope(ServletHandler.java:515)\n\tat org.eclipse.jetty.server.handler.ScopedHandler.handle(ScopedHandler.java:141)\n\tat org.eclipse.jetty.server.handler.HandlerWrapper.handle(HandlerWrapper.java:134)\n\tat org.eclipse.jetty.server.Server.handle(Server.java:539)\n\tat org.eclipse.jetty.server.HttpChannel.handle(HttpChannel.java:333)\n\tat org.eclipse.jetty.server.HttpConnection.onFillable(HttpConnection.java:251)\n\tat org.eclipse.jetty.io.AbstractConnection$ReadCallback.succeeded(AbstractConnection.java:283)\n\tat org.eclipse.jetty.io.FillInterest.fillable(FillInterest.java:108)\n\tat org.eclipse.jetty.io.SelectChannelEndPoint$2.run(SelectChannelEndPoint.java:93)\n\tat org.eclipse.jetty.util.thread.strategy.ExecuteProduceConsume.executeProduceConsume(ExecuteProduceConsume.java:303)\n\tat org.eclipse.jetty.util.thread.strategy.ExecuteProduceConsume.produceConsume(ExecuteProduceConsume.java:148)\n\tat org.eclipse.jetty.util.thread.strategy.ExecuteProduceConsume.run(ExecuteProduceConsume.java:136)\n\tat com.databricks.rpc.InstrumentedQueuedThreadPool$$anon$1.$anonfun$run$1(InstrumentedQueuedThreadPool.scala:83)\n\tat scala.runtime.java8.JFunction0$mcV$sp.apply(JFunction0$mcV$sp.java:23)\n\tat com.databricks.instrumentation.QueuedThreadPoolInstrumenter.trackActiveThreads(QueuedThreadPoolInstrumenter.scala:66)\n\tat com.databricks.instrumentation.QueuedThreadPoolInstrumenter.trackActiveThreads$(QueuedThreadPoolInstrumenter.scala:63)\n\tat com.databricks.rpc.InstrumentedQueuedThreadPool.trackActiveThreads(InstrumentedQueuedThreadPool.scala:49)\n\tat com.databricks.rpc.InstrumentedQueuedThreadPool$$anon$1.run(InstrumentedQueuedThreadPool.scala:78)\n\tat org.eclipse.jetty.util.thread.QueuedThreadPool.runJob(QueuedThreadPool.java:671)\n\tat org.eclipse.jetty.util.thread.QueuedThreadPool$2.run(QueuedThreadPool.java:589)\n\t... 1 more\n\n"
     ]
    }
   ],
   "source": [
    "try:\n",
    "    # Check if the mount point is already mounted\n",
    "    existing_mount = next((mount for mount in dbutils.fs.mounts() if mount.mountPoint == '/mnt/projectnew_mount'), None)\n",
    "    \n",
    "    if existing_mount is None:\n",
    "        # Mount the storage if it's not already mounted\n",
    "        dbutils.fs.mount(\n",
    "            source='wasbs://test@adlsacid.blob.core.windows.net',\n",
    "            mount_point='/mnt/projectnew_mount/',\n",
    "            extra_configs={\n",
    "                \"fs.azure.account.key.adlsacid.blob.core.windows.net\": \"PLQ88zVYwXYLD+EKLei7rvyMRAtprs9Y6Z7TeIJ1Q0bNkr4YmzN0pCmUh1Vxwd35dTW4WKPZ/gHY+ASt3Cypjw==\"\n",
    "            }\n",
    "        )\n",
    "    else:\n",
    "        print(\"Mount already exists:\", existing_mount.source)\n",
    "except Exception as e:\n",
    "    print(\"Error:\", str(e))\n",
    "\n",
    "# Continue with the rest of your notebook code here\n"
   ]
  },
  {
   "cell_type": "code",
   "execution_count": 0,
   "metadata": {
    "application/vnd.databricks.v1+cell": {
     "cellMetadata": {
      "byteLimit": 2048000,
      "rowLimit": 10000
     },
     "inputWidgets": {},
     "nuid": "26af65f3-e732-49a8-b18f-a994c09cf4e5",
     "showTitle": false,
     "title": ""
    }
   },
   "outputs": [
    {
     "output_type": "stream",
     "name": "stdout",
     "output_type": "stream",
     "text": [
      "Out[112]: [FileInfo(path='dbfs:/mnt/projectnew_mount/amazon prime movies.csv', name='amazon prime movies.csv', size=2439189, modificationTime=1691643181000),\n FileInfo(path='dbfs:/mnt/projectnew_mount/cleaned/', name='cleaned/', size=0, modificationTime=0),\n FileInfo(path='dbfs:/mnt/projectnew_mount/disney_plus_shows.csv', name='disney_plus_shows.csv', size=406103, modificationTime=1691637652000),\n FileInfo(path='dbfs:/mnt/projectnew_mount/netflix_titles.csv', name='netflix_titles.csv', size=3315606, modificationTime=1691637652000),\n FileInfo(path='dbfs:/mnt/projectnew_mount/results/', name='results/', size=0, modificationTime=0)]"
     ]
    }
   ],
   "source": [
    "dbutils.fs.ls('/mnt/projectnew_mount/')"
   ]
  },
  {
   "cell_type": "code",
   "execution_count": 0,
   "metadata": {
    "application/vnd.databricks.v1+cell": {
     "cellMetadata": {
      "byteLimit": 2048000,
      "rowLimit": 10000
     },
     "inputWidgets": {},
     "nuid": "f274b773-effb-4511-a58b-637851124012",
     "showTitle": false,
     "title": ""
    }
   },
   "outputs": [
    {
     "output_type": "stream",
     "name": "stdout",
     "output_type": "stream",
     "text": [
      "+------------+--------+------+----------+-------------+----------+--------------------+\n| movie_title|language|rating|   runtime|year_released|age_rating|              review|\n+------------+--------+------+----------+-------------+----------+--------------------+\n|  John Rambo|   Tamil|     7|1 h 26 min|         2008|       18+|In Thailand John ...|\n|American Pie| English|     7|1 h 35 min|         1999|       18+|\"You'll never loo...|\n|   Bombshell| English|   6.8|1 h 48 min|         2019|       18+|The provocative r...|\n|  Love Birds|   Tamil|   5.1|2 h 40 min|         1996|       All|After accidentall...|\n+------------+--------+------+----------+-------------+----------+--------------------+\nonly showing top 4 rows\n\n"
     ]
    }
   ],
   "source": [
    "df_amazon=spark.read.csv('/mnt/projectnew_mount/amazon prime movies.csv', inferSchema=True, header=True)\n",
    "df_amazon.show(4)"
   ]
  },
  {
   "cell_type": "code",
   "execution_count": 0,
   "metadata": {
    "application/vnd.databricks.v1+cell": {
     "cellMetadata": {
      "byteLimit": 2048000,
      "rowLimit": 10000
     },
     "inputWidgets": {},
     "nuid": "9c23d173-5542-48a7-9098-acac74c7fa16",
     "showTitle": false,
     "title": ""
    }
   },
   "outputs": [
    {
     "output_type": "stream",
     "name": "stdout",
     "output_type": "stream",
     "text": [
      "root\n |-- movie_title: string (nullable = true)\n |-- language: string (nullable = true)\n |-- rating: string (nullable = true)\n |-- runtime: string (nullable = true)\n |-- year_released: string (nullable = true)\n |-- age_rating: string (nullable = true)\n |-- review: string (nullable = true)\n\n"
     ]
    }
   ],
   "source": [
    "df_amazon.printSchema()"
   ]
  },
  {
   "cell_type": "code",
   "execution_count": 0,
   "metadata": {
    "application/vnd.databricks.v1+cell": {
     "cellMetadata": {
      "byteLimit": 2048000,
      "rowLimit": 10000
     },
     "inputWidgets": {},
     "nuid": "3b82a620-38f2-499d-a352-077bd908912c",
     "showTitle": false,
     "title": ""
    }
   },
   "outputs": [],
   "source": [
    "from pyspark.sql.functions import col\n",
    "from pyspark.sql.types import *\n",
    "df_amazon = df_amazon.withColumn('RATING', col('RATING').cast(FloatType()))\n",
    "df_amazon=df_amazon.withColumn('YEAR_RELEASED', col('YEAR_RELEASED').cast(IntegerType()))\n"
   ]
  },
  {
   "cell_type": "code",
   "execution_count": 0,
   "metadata": {
    "application/vnd.databricks.v1+cell": {
     "cellMetadata": {
      "byteLimit": 2048000,
      "rowLimit": 10000
     },
     "inputWidgets": {},
     "nuid": "346d1c96-3de2-417b-ad0e-704c74736fe2",
     "showTitle": false,
     "title": ""
    }
   },
   "outputs": [
    {
     "output_type": "stream",
     "name": "stdout",
     "output_type": "stream",
     "text": [
      "Out[117]: '1 h 35 min'"
     ]
    }
   ],
   "source": [
    "df_amazon.select('runtime').collect()[1][0]"
   ]
  },
  {
   "cell_type": "code",
   "execution_count": 0,
   "metadata": {
    "application/vnd.databricks.v1+cell": {
     "cellMetadata": {
      "byteLimit": 2048000,
      "rowLimit": 10000
     },
     "inputWidgets": {},
     "nuid": "94323b14-404c-4003-8534-8907e592f29a",
     "showTitle": false,
     "title": ""
    }
   },
   "outputs": [],
   "source": [
    "split_col = split(df_amazon[\"runtime\"], \" \")"
   ]
  },
  {
   "cell_type": "code",
   "execution_count": 0,
   "metadata": {
    "application/vnd.databricks.v1+cell": {
     "cellMetadata": {
      "byteLimit": 2048000,
      "rowLimit": 10000
     },
     "inputWidgets": {},
     "nuid": "7ee82954-b8bb-4439-ac4f-47eebeb3cbed",
     "showTitle": false,
     "title": ""
    }
   },
   "outputs": [],
   "source": [
    "df_amazon = df_amazon.withColumn(\"HOURS\", split_col[0].cast(\"int\"))\n",
    "df_amazon = df_amazon.withColumn(\"MINUTES\", split_col[2].cast(\"int\"))"
   ]
  },
  {
   "cell_type": "code",
   "execution_count": 0,
   "metadata": {
    "application/vnd.databricks.v1+cell": {
     "cellMetadata": {
      "byteLimit": 2048000,
      "rowLimit": 10000
     },
     "inputWidgets": {},
     "nuid": "1a1e39b2-3bf6-4bba-b29d-1ef39a0b1077",
     "showTitle": false,
     "title": ""
    }
   },
   "outputs": [],
   "source": [
    "from pyspark.sql.functions import round\n",
    "df_amazon = df_amazon.withColumn(\"DURATION_NEW\",\n",
    "                                 round(col(\"HOURS\") + col(\"MINUTES\") / 60, 3)\n",
    "                                 )"
   ]
  },
  {
   "cell_type": "code",
   "execution_count": 0,
   "metadata": {
    "application/vnd.databricks.v1+cell": {
     "cellMetadata": {
      "byteLimit": 2048000,
      "rowLimit": 10000
     },
     "inputWidgets": {},
     "nuid": "d01ffa41-3387-486a-8840-b17b6afe5870",
     "showTitle": false,
     "title": ""
    }
   },
   "outputs": [
    {
     "output_type": "stream",
     "name": "stdout",
     "output_type": "stream",
     "text": [
      "+------------+--------+------+----------+-------------+----------+--------------------+------------+\n| movie_title|language|RATING|   runtime|YEAR_RELEASED|age_rating|              review|DURATION_NEW|\n+------------+--------+------+----------+-------------+----------+--------------------+------------+\n|  John Rambo|   Tamil|   7.0|1 h 26 min|         2008|       18+|In Thailand John ...|       1.433|\n|American Pie| English|   7.0|1 h 35 min|         1999|       18+|\"You'll never loo...|       1.583|\n|   Bombshell| English|   6.8|1 h 48 min|         2019|       18+|The provocative r...|         1.8|\n|  Love Birds|   Tamil|   5.1|2 h 40 min|         1996|       All|After accidentall...|       2.667|\n+------------+--------+------+----------+-------------+----------+--------------------+------------+\nonly showing top 4 rows\n\n"
     ]
    }
   ],
   "source": [
    "df_amazon=df_amazon.drop('HOURS','MINUTES')\n",
    "df_amazon.show(4)"
   ]
  },
  {
   "cell_type": "code",
   "execution_count": 0,
   "metadata": {
    "application/vnd.databricks.v1+cell": {
     "cellMetadata": {
      "byteLimit": 2048000,
      "rowLimit": 10000
     },
     "inputWidgets": {},
     "nuid": "66256dd3-b88c-4629-8a20-cc9265a5e9bf",
     "showTitle": false,
     "title": ""
    }
   },
   "outputs": [
    {
     "output_type": "stream",
     "name": "stdout",
     "output_type": "stream",
     "text": [
      "root\n |-- movie_title: string (nullable = true)\n |-- language: string (nullable = true)\n |-- RATING: float (nullable = true)\n |-- runtime: string (nullable = true)\n |-- YEAR_RELEASED: integer (nullable = true)\n |-- age_rating: string (nullable = true)\n |-- review: string (nullable = true)\n |-- DURATION_NEW: double (nullable = true)\n\n"
     ]
    }
   ],
   "source": [
    "df_amazon.printSchema()"
   ]
  },
  {
   "cell_type": "code",
   "execution_count": 0,
   "metadata": {
    "application/vnd.databricks.v1+cell": {
     "cellMetadata": {
      "byteLimit": 2048000,
      "rowLimit": 10000
     },
     "inputWidgets": {},
     "nuid": "1c3c6658-a4c9-4fe3-9a72-bdd4f9609dcf",
     "showTitle": false,
     "title": ""
    }
   },
   "outputs": [
    {
     "output_type": "stream",
     "name": "stdout",
     "output_type": "stream",
     "text": [
      "Out[123]: 8129"
     ]
    }
   ],
   "source": [
    "is_null_column = df_amazon.select(col(\"movie_title\").isNull().alias(\"is_null\")).count()\n",
    "is_null_column"
   ]
  },
  {
   "cell_type": "code",
   "execution_count": 0,
   "metadata": {
    "application/vnd.databricks.v1+cell": {
     "cellMetadata": {
      "byteLimit": 2048000,
      "rowLimit": 10000
     },
     "inputWidgets": {},
     "nuid": "a72e5aa1-297b-4b59-8057-7cfedf35b1d6",
     "showTitle": false,
     "title": ""
    }
   },
   "outputs": [
    {
     "output_type": "stream",
     "name": "stdout",
     "output_type": "stream",
     "text": [
      "+-----------+--------+------+-------+-------------+----------+------+------------+\n|movie_title|language|RATING|runtime|YEAR_RELEASED|age_rating|review|DURATION_NEW|\n+-----------+--------+------+-------+-------------+----------+------+------------+\n|          0|       2|  2010|      2|          399|         2|     7|         649|\n+-----------+--------+------+-------+-------------+----------+------+------------+\n\n"
     ]
    }
   ],
   "source": [
    "from pyspark.sql.functions import sum\n",
    "null_value_counts = df_amazon.select([sum(col(c).isNull().cast(\"int\")).alias(c) for c in df_amazon.columns])\n",
    "null_value_counts.show()"
   ]
  },
  {
   "cell_type": "code",
   "execution_count": 0,
   "metadata": {
    "application/vnd.databricks.v1+cell": {
     "cellMetadata": {
      "byteLimit": 2048000,
      "rowLimit": 10000
     },
     "inputWidgets": {},
     "nuid": "b1e80cb0-a4d3-4f0a-add4-97d3f17329c6",
     "showTitle": false,
     "title": ""
    }
   },
   "outputs": [],
   "source": [
    "df_amazon.write.mode('overwrite').csv('/mnt/projectnew_mount/cleaned/amazon',header=True)"
   ]
  },
  {
   "cell_type": "code",
   "execution_count": 0,
   "metadata": {
    "application/vnd.databricks.v1+cell": {
     "cellMetadata": {},
     "inputWidgets": {},
     "nuid": "e2953980-67bd-4635-b549-51324bd611ba",
     "showTitle": false,
     "title": ""
    }
   },
   "outputs": [],
   "source": []
  },
  {
   "cell_type": "markdown",
   "metadata": {
    "application/vnd.databricks.v1+cell": {
     "cellMetadata": {},
     "inputWidgets": {},
     "nuid": "f60e5460-b5b4-44c8-a7b7-58282b848805",
     "showTitle": false,
     "title": ""
    }
   },
   "source": [
    "## Transformation of Disney"
   ]
  },
  {
   "cell_type": "code",
   "execution_count": 0,
   "metadata": {
    "application/vnd.databricks.v1+cell": {
     "cellMetadata": {
      "byteLimit": 2048000,
      "rowLimit": 10000
     },
     "inputWidgets": {},
     "nuid": "9fc4663c-f8fd-45f6-a207-86411229c4c5",
     "showTitle": false,
     "title": ""
    }
   },
   "outputs": [],
   "source": [
    "#read the csv file after mounting the databricks to adls\n",
    "custom_delimiter = r\",\"\n",
    "df_disney=spark.read.option(\"delimiter\", custom_delimiter).csv('/mnt/projectnew_mount/disney_plus_shows.csv', inferSchema=True, header=True)"
   ]
  },
  {
   "cell_type": "code",
   "execution_count": 0,
   "metadata": {
    "application/vnd.databricks.v1+cell": {
     "cellMetadata": {
      "byteLimit": 2048000,
      "rowLimit": 10000
     },
     "inputWidgets": {},
     "nuid": "0578dd96-1457-42c6-8a0e-4fd9de259fee",
     "showTitle": false,
     "title": ""
    }
   },
   "outputs": [
    {
     "output_type": "display_data",
     "data": {
      "text/html": [
       "<style scoped>\n",
       "  .table-result-container {\n",
       "    max-height: 300px;\n",
       "    overflow: auto;\n",
       "  }\n",
       "  table, th, td {\n",
       "    border: 1px solid black;\n",
       "    border-collapse: collapse;\n",
       "  }\n",
       "  th, td {\n",
       "    padding: 5px;\n",
       "  }\n",
       "  th {\n",
       "    text-align: left;\n",
       "  }\n",
       "</style><div class='table-result-container'><table class='table-result'><thead style='background-color: white'><tr><th>imdb_id</th><th>title</th><th>plot</th><th>type</th><th>rated</th><th>year</th><th>released_at</th><th>added_at</th><th>runtime</th><th>genre</th><th>director</th><th>writer</th><th>actors</th><th>language</th><th>country</th><th>awards</th><th>metascore</th><th>imdb_rating</th><th>imdb_votes</th></tr></thead><tbody><tr><td>tt0147800</td><td>10 Things I Hate About You</td><td>A pretty popular teenager can't go out on a date until her ill-tempered older sister does.</td><td>movie</td><td>PG-13</td><td>1999</td><td>31-Mar-99</td><td>12-Nov-19</td><td>97 min</td><td>Comedy\\t Drama\\t Romance</td><td>Gil Junger</td><td>Karen McCullah\\t Kirsten Smith</td><td>Heath Ledger\\t Julia Stiles\\t Joseph Gordon-Levitt\\t Larisa Oleynik</td><td>English\\t French</td><td>USA</td><td>2 wins & 13 nominations.</td><td>70</td><td>7.3</td><td>283945</td></tr><tr><td>tt7019028</td><td>101 Dalmatian Street</td><td>This series follows the lives of Delilah and Doug descendants of Pongo and Perdita and their 99 dalmatian pups at 101 Dalmatian Street Camden Town.</td><td>series</td><td>N/A</td><td>2018–</td><td>25-Mar-19</td><td>28-Feb-20</td><td>N/A</td><td>Animation\\t Comedy\\t Family</td><td>N/A</td><td>N/A</td><td>Josh Brener\\t Michaela Dietz\\t Bert Davis\\t Abigail Zoe Lewis</td><td>English</td><td>UK\\t USA\\t Canada</td><td>N/A</td><td>N/A</td><td>6.2</td><td>124</td></tr><tr><td>tt0115433</td><td>101 Dalmatians</td><td>An evil high-fashion designer plots to steal Dalmatian puppies in order to make an extravagant fur coat but instead creates an extravagant mess.</td><td>movie</td><td>G</td><td>1996</td><td>27-Nov-96</td><td>12-Nov-19</td><td>103 min</td><td>Adventure\\t Comedy\\t Crime\\t Family</td><td>Stephen Herek</td><td>Dodie Smith (novel)\\t John Hughes (screenplay)</td><td>Glenn Close\\t Jeff Daniels\\t Joely Richardson\\t Joan Plowright</td><td>English\\t Spanish</td><td>USA\\t UK</td><td>Nominated for 1 Golden Globe. Another 3 wins & 9 nominations.</td><td>49</td><td>5.7</td><td>97785</td></tr><tr><td>tt0324941</td><td>101 Dalmatians 2: Patch's London Adventure</td><td>Being one of 101 takes its toll on Patch who doesn't feel unique. When he's accidentally left behind on moving day he meets his idol Thunderbolt who enlists him on a publicity campaign.</td><td>movie</td><td>G</td><td>2002</td><td>21-Jan-03</td><td>12-Nov-19</td><td>74 min</td><td>Animation\\t Adventure\\t Comedy\\t Family\\t Musical</td><td>Jim Kammerud\\t Brian Smith</td><td>Jim Kammerud (story)\\t Dan Root (story)\\t Garrett K. Schiff (story)\\t Brian Smith (story)\\t Jim Kammerud (screenplay)\\t Brian Smith (screenplay)\\t Dodie Smith (novel)\\t Michael Lucker\\t Temple Mathews (additional script material)</td><td>Barry Bostwick\\t Jason Alexander\\t Martin Short\\t Bobby Lockwood</td><td>English</td><td>USA</td><td>5 wins & 10 nominations.</td><td>N/A</td><td>5.8</td><td>7434</td></tr><tr><td>tt0211181</td><td>102 Dalmatians</td><td>Cruella DeVil gets out of prison and goes after the puppies once more.</td><td>movie</td><td>G</td><td>2000</td><td>22-Nov-00</td><td>12-Nov-19</td><td>100 min</td><td>Adventure\\t Comedy\\t Family</td><td>Kevin Lima</td><td>Dodie Smith (novel)\\t Kristen Buckley (story)\\t Brian Regan (story)\\t Kristen Buckley (screenplay)\\t Brian Regan (screenplay)\\t Bob Tzudiker (screenplay)\\t Noni White (screenplay)</td><td>Glenn Close\\t Gérard Depardieu\\t Ioan Gruffudd\\t Alice Evans</td><td>English</td><td>USA\\t UK</td><td>Nominated for 1 Oscar. Another 1 win & 7 nominations.</td><td>35</td><td>4.9</td><td>33444</td></tr><tr><td>tt1846442</td><td>12 Dates of Christmas</td><td>A story that follows Kate a young woman who after a horrible blind date on Christmas Eve wakes up to find she is re-living that same day and date all over again.</td><td>movie</td><td>PG</td><td>2011</td><td>11-Dec-11</td><td>12-Nov-19</td><td>90 min</td><td>Comedy\\t Fantasy\\t Romance</td><td>James Hayman</td><td>Aaron Mendelsohn (teleplay)\\t Janet Brownell (teleplay)\\t Aaron Mendelsohn (story)\\t Blake Harris (story)</td><td>Laura Miyata\\t Vijay Mehta\\t Amy Smart\\t Audrey Dwyer</td><td>English</td><td>USA</td><td>1 nomination.</td><td>N/A</td><td>6.3</td><td>4933</td></tr><tr><td>tt0046672</td><td>20000 Leagues Under the Sea</td><td>A ship sent to investigate a wave of mysterious sinkings encounters the advanced submarine the Nautilus commanded by Captain Nemo.</td><td>movie</td><td>G</td><td>1954</td><td>20-Jul-55</td><td>12-Nov-19</td><td>127 min</td><td>Adventure\\t Drama\\t Family\\t Fantasy\\t Sci-Fi</td><td>Richard Fleischer</td><td>Earl Felton (screenplay)</td><td>Kirk Douglas\\t James Mason\\t Paul Lukas\\t Peter Lorre</td><td>English</td><td>USA</td><td>Won 2 Oscars. Another 3 wins & 3 nominations.</td><td>83</td><td>7.2</td><td>27761</td></tr><tr><td>tt0120623</td><td>A Bug's Life</td><td>\"A misfit ant looking for \"\"warriors\"\" to save his colony from greedy grasshoppers recruits a group of bugs that turn out to be an inept circus troupe.\"</td><td>movie</td><td>G</td><td>1998</td><td>25-Nov-98</td><td>12-Nov-19</td><td>95 min</td><td>Animation\\t Adventure\\t Comedy\\t Family</td><td>John Lasseter\\t Andrew Stanton(co-director)</td><td>John Lasseter (original story by)\\t Andrew Stanton (original story by)\\t Joe Ranft (original story by)\\t Andrew Stanton (screenplay by)\\t Don McEnery (screenplay by)\\t Bob Shaw (screenplay by)</td><td>Dave Foley\\t Kevin Spacey\\t Julia Louis-Dreyfus\\t Hayden Panettiere</td><td>English</td><td>USA</td><td>Nominated for 1 Oscar. Another 14 wins & 20 nominations.</td><td>77</td><td>7.2</td><td>257065</td></tr><tr><td>tt12076020</td><td>A Celebration of the Music from Coco</td><td>N/A</td><td>movie</td><td>N/A</td><td>2020</td><td>10-Apr-20</td><td>10-Apr-20</td><td>N/A</td><td>Music</td><td>Ron de Moraes</td><td>N/A</td><td>Benjamin Bratt\\t Eva Longoria</td><td>English</td><td>USA</td><td>N/A</td><td>N/A</td><td>7.6</td><td>35</td></tr><tr><td>tt0113198</td><td>A Goofy Movie</td><td>When Max makes a preposterous promise to a girl he has a crush on his chances to fulfilling it seem hopeless when he is dragged onto a cross-country trip with his embarrassing father Goofy.</td><td>movie</td><td>G</td><td>1995</td><td>7-Apr-95</td><td>12-Nov-19</td><td>78 min</td><td>Animation\\t Adventure\\t Comedy\\t Family\\t Musical\\t Romance</td><td>Kevin Lima</td><td>Jymn Magon (story)\\t Jymn Magon (screenplay)\\t Chris Matheson (screenplay)\\t Brian Pimental (screenplay)\\t Brian Pimental (story supervisor)\\t Curtis Armstrong (additional written material)\\t John Doolittle (additional written material)</td><td>Bill Farmer\\t Jason Marsden\\t Jim Cummings\\t Kellie Martin</td><td>English</td><td>USA\\t Australia\\t France\\t Canada</td><td>5 nominations.</td><td>N/A</td><td>6.8</td><td>43655</td></tr></tbody></table></div>"
      ]
     },
     "metadata": {
      "application/vnd.databricks.v1+output": {
       "addedWidgets": {},
       "aggData": [],
       "aggError": "",
       "aggOverflow": false,
       "aggSchema": [],
       "aggSeriesLimitReached": false,
       "aggType": "",
       "arguments": {},
       "columnCustomDisplayInfos": {},
       "data": [
        [
         "tt0147800",
         "10 Things I Hate About You",
         "A pretty popular teenager can't go out on a date until her ill-tempered older sister does.",
         "movie",
         "PG-13",
         "1999",
         "31-Mar-99",
         "12-Nov-19",
         "97 min",
         "Comedy\\t Drama\\t Romance",
         "Gil Junger",
         "Karen McCullah\\t Kirsten Smith",
         "Heath Ledger\\t Julia Stiles\\t Joseph Gordon-Levitt\\t Larisa Oleynik",
         "English\\t French",
         "USA",
         "2 wins & 13 nominations.",
         "70",
         "7.3",
         "283945"
        ],
        [
         "tt7019028",
         "101 Dalmatian Street",
         "This series follows the lives of Delilah and Doug descendants of Pongo and Perdita and their 99 dalmatian pups at 101 Dalmatian Street Camden Town.",
         "series",
         "N/A",
         "2018–",
         "25-Mar-19",
         "28-Feb-20",
         "N/A",
         "Animation\\t Comedy\\t Family",
         "N/A",
         "N/A",
         "Josh Brener\\t Michaela Dietz\\t Bert Davis\\t Abigail Zoe Lewis",
         "English",
         "UK\\t USA\\t Canada",
         "N/A",
         "N/A",
         "6.2",
         "124"
        ],
        [
         "tt0115433",
         "101 Dalmatians",
         "An evil high-fashion designer plots to steal Dalmatian puppies in order to make an extravagant fur coat but instead creates an extravagant mess.",
         "movie",
         "G",
         "1996",
         "27-Nov-96",
         "12-Nov-19",
         "103 min",
         "Adventure\\t Comedy\\t Crime\\t Family",
         "Stephen Herek",
         "Dodie Smith (novel)\\t John Hughes (screenplay)",
         "Glenn Close\\t Jeff Daniels\\t Joely Richardson\\t Joan Plowright",
         "English\\t Spanish",
         "USA\\t UK",
         "Nominated for 1 Golden Globe. Another 3 wins & 9 nominations.",
         "49",
         "5.7",
         "97785"
        ],
        [
         "tt0324941",
         "101 Dalmatians 2: Patch's London Adventure",
         "Being one of 101 takes its toll on Patch who doesn't feel unique. When he's accidentally left behind on moving day he meets his idol Thunderbolt who enlists him on a publicity campaign.",
         "movie",
         "G",
         "2002",
         "21-Jan-03",
         "12-Nov-19",
         "74 min",
         "Animation\\t Adventure\\t Comedy\\t Family\\t Musical",
         "Jim Kammerud\\t Brian Smith",
         "Jim Kammerud (story)\\t Dan Root (story)\\t Garrett K. Schiff (story)\\t Brian Smith (story)\\t Jim Kammerud (screenplay)\\t Brian Smith (screenplay)\\t Dodie Smith (novel)\\t Michael Lucker\\t Temple Mathews (additional script material)",
         "Barry Bostwick\\t Jason Alexander\\t Martin Short\\t Bobby Lockwood",
         "English",
         "USA",
         "5 wins & 10 nominations.",
         "N/A",
         "5.8",
         "7434"
        ],
        [
         "tt0211181",
         "102 Dalmatians",
         "Cruella DeVil gets out of prison and goes after the puppies once more.",
         "movie",
         "G",
         "2000",
         "22-Nov-00",
         "12-Nov-19",
         "100 min",
         "Adventure\\t Comedy\\t Family",
         "Kevin Lima",
         "Dodie Smith (novel)\\t Kristen Buckley (story)\\t Brian Regan (story)\\t Kristen Buckley (screenplay)\\t Brian Regan (screenplay)\\t Bob Tzudiker (screenplay)\\t Noni White (screenplay)",
         "Glenn Close\\t Gérard Depardieu\\t Ioan Gruffudd\\t Alice Evans",
         "English",
         "USA\\t UK",
         "Nominated for 1 Oscar. Another 1 win & 7 nominations.",
         "35",
         "4.9",
         "33444"
        ],
        [
         "tt1846442",
         "12 Dates of Christmas",
         "A story that follows Kate a young woman who after a horrible blind date on Christmas Eve wakes up to find she is re-living that same day and date all over again.",
         "movie",
         "PG",
         "2011",
         "11-Dec-11",
         "12-Nov-19",
         "90 min",
         "Comedy\\t Fantasy\\t Romance",
         "James Hayman",
         "Aaron Mendelsohn (teleplay)\\t Janet Brownell (teleplay)\\t Aaron Mendelsohn (story)\\t Blake Harris (story)",
         "Laura Miyata\\t Vijay Mehta\\t Amy Smart\\t Audrey Dwyer",
         "English",
         "USA",
         "1 nomination.",
         "N/A",
         "6.3",
         "4933"
        ],
        [
         "tt0046672",
         "20000 Leagues Under the Sea",
         "A ship sent to investigate a wave of mysterious sinkings encounters the advanced submarine the Nautilus commanded by Captain Nemo.",
         "movie",
         "G",
         "1954",
         "20-Jul-55",
         "12-Nov-19",
         "127 min",
         "Adventure\\t Drama\\t Family\\t Fantasy\\t Sci-Fi",
         "Richard Fleischer",
         "Earl Felton (screenplay)",
         "Kirk Douglas\\t James Mason\\t Paul Lukas\\t Peter Lorre",
         "English",
         "USA",
         "Won 2 Oscars. Another 3 wins & 3 nominations.",
         "83",
         "7.2",
         "27761"
        ],
        [
         "tt0120623",
         "A Bug's Life",
         "\"A misfit ant looking for \"\"warriors\"\" to save his colony from greedy grasshoppers recruits a group of bugs that turn out to be an inept circus troupe.\"",
         "movie",
         "G",
         "1998",
         "25-Nov-98",
         "12-Nov-19",
         "95 min",
         "Animation\\t Adventure\\t Comedy\\t Family",
         "John Lasseter\\t Andrew Stanton(co-director)",
         "John Lasseter (original story by)\\t Andrew Stanton (original story by)\\t Joe Ranft (original story by)\\t Andrew Stanton (screenplay by)\\t Don McEnery (screenplay by)\\t Bob Shaw (screenplay by)",
         "Dave Foley\\t Kevin Spacey\\t Julia Louis-Dreyfus\\t Hayden Panettiere",
         "English",
         "USA",
         "Nominated for 1 Oscar. Another 14 wins & 20 nominations.",
         "77",
         "7.2",
         "257065"
        ],
        [
         "tt12076020",
         "A Celebration of the Music from Coco",
         "N/A",
         "movie",
         "N/A",
         "2020",
         "10-Apr-20",
         "10-Apr-20",
         "N/A",
         "Music",
         "Ron de Moraes",
         "N/A",
         "Benjamin Bratt\\t Eva Longoria",
         "English",
         "USA",
         "N/A",
         "N/A",
         "7.6",
         "35"
        ],
        [
         "tt0113198",
         "A Goofy Movie",
         "When Max makes a preposterous promise to a girl he has a crush on his chances to fulfilling it seem hopeless when he is dragged onto a cross-country trip with his embarrassing father Goofy.",
         "movie",
         "G",
         "1995",
         "7-Apr-95",
         "12-Nov-19",
         "78 min",
         "Animation\\t Adventure\\t Comedy\\t Family\\t Musical\\t Romance",
         "Kevin Lima",
         "Jymn Magon (story)\\t Jymn Magon (screenplay)\\t Chris Matheson (screenplay)\\t Brian Pimental (screenplay)\\t Brian Pimental (story supervisor)\\t Curtis Armstrong (additional written material)\\t John Doolittle (additional written material)",
         "Bill Farmer\\t Jason Marsden\\t Jim Cummings\\t Kellie Martin",
         "English",
         "USA\\t Australia\\t France\\t Canada",
         "5 nominations.",
         "N/A",
         "6.8",
         "43655"
        ]
       ],
       "datasetInfos": [],
       "dbfsResultPath": null,
       "isJsonSchema": true,
       "metadata": {},
       "overflow": false,
       "plotOptions": {
        "customPlotOptions": {},
        "displayType": "table",
        "pivotAggregation": null,
        "pivotColumns": null,
        "xColumns": null,
        "yColumns": null
       },
       "removedWidgets": [],
       "schema": [
        {
         "metadata": "{}",
         "name": "imdb_id",
         "type": "\"string\""
        },
        {
         "metadata": "{}",
         "name": "title",
         "type": "\"string\""
        },
        {
         "metadata": "{}",
         "name": "plot",
         "type": "\"string\""
        },
        {
         "metadata": "{}",
         "name": "type",
         "type": "\"string\""
        },
        {
         "metadata": "{}",
         "name": "rated",
         "type": "\"string\""
        },
        {
         "metadata": "{}",
         "name": "year",
         "type": "\"string\""
        },
        {
         "metadata": "{}",
         "name": "released_at",
         "type": "\"string\""
        },
        {
         "metadata": "{}",
         "name": "added_at",
         "type": "\"string\""
        },
        {
         "metadata": "{}",
         "name": "runtime",
         "type": "\"string\""
        },
        {
         "metadata": "{}",
         "name": "genre",
         "type": "\"string\""
        },
        {
         "metadata": "{}",
         "name": "director",
         "type": "\"string\""
        },
        {
         "metadata": "{}",
         "name": "writer",
         "type": "\"string\""
        },
        {
         "metadata": "{}",
         "name": "actors",
         "type": "\"string\""
        },
        {
         "metadata": "{}",
         "name": "language",
         "type": "\"string\""
        },
        {
         "metadata": "{}",
         "name": "country",
         "type": "\"string\""
        },
        {
         "metadata": "{}",
         "name": "awards",
         "type": "\"string\""
        },
        {
         "metadata": "{}",
         "name": "metascore",
         "type": "\"string\""
        },
        {
         "metadata": "{}",
         "name": "imdb_rating",
         "type": "\"string\""
        },
        {
         "metadata": "{}",
         "name": "imdb_votes",
         "type": "\"string\""
        }
       ],
       "type": "table"
      }
     },
     "output_type": "display_data"
    }
   ],
   "source": [
    "#see the sample data\n",
    "display(df_disney.limit(10))"
   ]
  },
  {
   "cell_type": "code",
   "execution_count": 0,
   "metadata": {
    "application/vnd.databricks.v1+cell": {
     "cellMetadata": {
      "byteLimit": 2048000,
      "rowLimit": 10000
     },
     "inputWidgets": {},
     "nuid": "d0a2e383-6c64-482d-b183-f15d0d0714e2",
     "showTitle": false,
     "title": ""
    }
   },
   "outputs": [
    {
     "output_type": "stream",
     "name": "stdout",
     "output_type": "stream",
     "text": [
      "root\n |-- imdb_id: string (nullable = true)\n |-- title: string (nullable = true)\n |-- plot: string (nullable = true)\n |-- type: string (nullable = true)\n |-- rated: string (nullable = true)\n |-- year: string (nullable = true)\n |-- released_at: string (nullable = true)\n |-- added_at: string (nullable = true)\n |-- runtime: string (nullable = true)\n |-- genre: string (nullable = true)\n |-- director: string (nullable = true)\n |-- writer: string (nullable = true)\n |-- actors: string (nullable = true)\n |-- language: string (nullable = true)\n |-- country: string (nullable = true)\n |-- awards: string (nullable = true)\n |-- metascore: string (nullable = true)\n |-- imdb_rating: string (nullable = true)\n |-- imdb_votes: string (nullable = true)\n\n"
     ]
    }
   ],
   "source": [
    "df_disney.printSchema()"
   ]
  },
  {
   "cell_type": "code",
   "execution_count": 0,
   "metadata": {
    "application/vnd.databricks.v1+cell": {
     "cellMetadata": {
      "byteLimit": 2048000,
      "rowLimit": 10000
     },
     "inputWidgets": {},
     "nuid": "ea3d3ac1-dceb-45c6-b084-364bb5180b7c",
     "showTitle": false,
     "title": ""
    }
   },
   "outputs": [],
   "source": [
    "#casting the year column datatype to integer\n",
    "df_disney = df_disney.withColumn('year', col('year').cast(IntegerType()))"
   ]
  },
  {
   "cell_type": "code",
   "execution_count": 0,
   "metadata": {
    "application/vnd.databricks.v1+cell": {
     "cellMetadata": {
      "byteLimit": 2048000,
      "rowLimit": 10000
     },
     "inputWidgets": {},
     "nuid": "fb7a5122-3835-4836-a365-b6d88b51874b",
     "showTitle": false,
     "title": ""
    }
   },
   "outputs": [],
   "source": [
    "# chnagingsome other columns data types\n",
    "df_disney = df_disney.withColumn('metascore', col('metascore').cast(IntegerType()))\n",
    "df_disney = df_disney.withColumn('imdb_rating', col('imdb_rating').cast(FloatType()))\n"
   ]
  },
  {
   "cell_type": "code",
   "execution_count": 0,
   "metadata": {
    "application/vnd.databricks.v1+cell": {
     "cellMetadata": {
      "byteLimit": 2048000,
      "rowLimit": 10000
     },
     "inputWidgets": {},
     "nuid": "ca3af24f-c5e6-4fa7-aefb-19bdd03260db",
     "showTitle": false,
     "title": ""
    }
   },
   "outputs": [],
   "source": [
    "#changing one value format to min\n",
    "from pyspark.sql.functions import when\n",
    "df_disney = df_disney.withColumn(\"runtime\",\n",
    "                                 when(col(\"runtime\") == '1 h', '60 min')\n",
    "                                 .otherwise(col(\"runtime\")))"
   ]
  },
  {
   "cell_type": "code",
   "execution_count": 0,
   "metadata": {
    "application/vnd.databricks.v1+cell": {
     "cellMetadata": {
      "byteLimit": 2048000,
      "rowLimit": 10000
     },
     "inputWidgets": {},
     "nuid": "40433aca-80ee-4040-b897-eddc2947903d",
     "showTitle": false,
     "title": ""
    }
   },
   "outputs": [],
   "source": [
    "\n",
    "# changing the format of the run time time to integer\n",
    "from pyspark.sql.functions import split\n",
    "df_disney = df_disney.withColumn(\"runtime\", split(col(\"runtime\"), \" \")[0].cast(\"int\"))\n"
   ]
  },
  {
   "cell_type": "code",
   "execution_count": 0,
   "metadata": {
    "application/vnd.databricks.v1+cell": {
     "cellMetadata": {
      "byteLimit": 2048000,
      "rowLimit": 10000
     },
     "inputWidgets": {},
     "nuid": "9a5481ef-3368-4a45-b977-e1259ff9fb35",
     "showTitle": false,
     "title": ""
    }
   },
   "outputs": [
    {
     "output_type": "stream",
     "name": "stdout",
     "output_type": "stream",
     "text": [
      "root\n |-- imdb_id: string (nullable = true)\n |-- title: string (nullable = true)\n |-- plot: string (nullable = true)\n |-- type: string (nullable = true)\n |-- rated: string (nullable = true)\n |-- year: integer (nullable = true)\n |-- released_at: string (nullable = true)\n |-- added_at: string (nullable = true)\n |-- runtime: integer (nullable = true)\n |-- genre: string (nullable = true)\n |-- director: string (nullable = true)\n |-- writer: string (nullable = true)\n |-- actors: string (nullable = true)\n |-- language: string (nullable = true)\n |-- country: string (nullable = true)\n |-- awards: string (nullable = true)\n |-- metascore: integer (nullable = true)\n |-- imdb_rating: float (nullable = true)\n |-- imdb_votes: string (nullable = true)\n\n"
     ]
    }
   ],
   "source": [
    "#see the schema once\n",
    "df_disney.printSchema()"
   ]
  },
  {
   "cell_type": "code",
   "execution_count": 0,
   "metadata": {
    "application/vnd.databricks.v1+cell": {
     "cellMetadata": {
      "byteLimit": 2048000,
      "rowLimit": 10000
     },
     "inputWidgets": {},
     "nuid": "c151df7b-d723-4556-8d8b-3c68c200ea35",
     "showTitle": false,
     "title": ""
    }
   },
   "outputs": [],
   "source": [
    "# changing the date format from d-MMM-yy to yyyy-MM-dd for that we need pivot point for spark to understand\n",
    "pivot_year = 1930\n",
    "spark.conf.set(\"spark.sql.legacy.timeParserPolicy\", \"LEGACY\")\n",
    "spark.conf.set(\"spark.sql.legacy.timeParserPolicy.pivotYear\", pivot_year)"
   ]
  },
  {
   "cell_type": "code",
   "execution_count": 0,
   "metadata": {
    "application/vnd.databricks.v1+cell": {
     "cellMetadata": {
      "byteLimit": 2048000,
      "rowLimit": 10000
     },
     "inputWidgets": {},
     "nuid": "e22292d5-982f-4c16-8606-cb6b28b87de5",
     "showTitle": false,
     "title": ""
    }
   },
   "outputs": [],
   "source": [
    "# changing the format now \n",
    "from pyspark.sql.functions import to_date\n",
    "df_disney = df_disney.withColumn(\"released_date\", to_date(col(\"released_at\"), \"d-MMM-yy\"))\n"
   ]
  },
  {
   "cell_type": "code",
   "execution_count": 0,
   "metadata": {
    "application/vnd.databricks.v1+cell": {
     "cellMetadata": {
      "byteLimit": 2048000,
      "rowLimit": 10000
     },
     "inputWidgets": {},
     "nuid": "5cda6b87-9510-4c58-aa22-164ec36ede36",
     "showTitle": false,
     "title": ""
    }
   },
   "outputs": [],
   "source": [
    "#changing the format of added_at column date format\n",
    "from pyspark.sql.functions import date_format\n",
    "df_disney = df_disney.withColumn(\"added_date\", to_date(col(\"added_at\"), \"d-MMM-yy\"))\n",
    "# November 12, 2019"
   ]
  },
  {
   "cell_type": "code",
   "execution_count": 0,
   "metadata": {
    "application/vnd.databricks.v1+cell": {
     "cellMetadata": {
      "byteLimit": 2048000,
      "rowLimit": 10000
     },
     "inputWidgets": {},
     "nuid": "aa663121-c615-49fd-a93b-785822c89903",
     "showTitle": false,
     "title": ""
    }
   },
   "outputs": [
    {
     "output_type": "display_data",
     "data": {
      "text/html": [
       "<style scoped>\n",
       "  .table-result-container {\n",
       "    max-height: 300px;\n",
       "    overflow: auto;\n",
       "  }\n",
       "  table, th, td {\n",
       "    border: 1px solid black;\n",
       "    border-collapse: collapse;\n",
       "  }\n",
       "  th, td {\n",
       "    padding: 5px;\n",
       "  }\n",
       "  th {\n",
       "    text-align: left;\n",
       "  }\n",
       "</style><div class='table-result-container'><table class='table-result'><thead style='background-color: white'><tr><th>imdb_id</th><th>title</th><th>plot</th><th>type</th><th>rated</th><th>year</th><th>released_at</th><th>added_at</th><th>runtime</th><th>genre</th><th>director</th><th>writer</th><th>actors</th><th>language</th><th>country</th><th>awards</th><th>metascore</th><th>imdb_rating</th><th>imdb_votes</th><th>released_date</th><th>added_date</th></tr></thead><tbody><tr><td>tt0147800</td><td>10 Things I Hate About You</td><td>A pretty popular teenager can't go out on a date until her ill-tempered older sister does.</td><td>movie</td><td>PG-13</td><td>1999</td><td>31-Mar-99</td><td>12-Nov-19</td><td>97</td><td>Comedy\\t Drama\\t Romance</td><td>Gil Junger</td><td>Karen McCullah\\t Kirsten Smith</td><td>Heath Ledger\\t Julia Stiles\\t Joseph Gordon-Levitt\\t Larisa Oleynik</td><td>English\\t French</td><td>USA</td><td>2 wins & 13 nominations.</td><td>70</td><td>7.3</td><td>283945</td><td>1999-03-31</td><td>2019-11-12</td></tr><tr><td>tt7019028</td><td>101 Dalmatian Street</td><td>This series follows the lives of Delilah and Doug descendants of Pongo and Perdita and their 99 dalmatian pups at 101 Dalmatian Street Camden Town.</td><td>series</td><td>N/A</td><td>null</td><td>25-Mar-19</td><td>28-Feb-20</td><td>null</td><td>Animation\\t Comedy\\t Family</td><td>N/A</td><td>N/A</td><td>Josh Brener\\t Michaela Dietz\\t Bert Davis\\t Abigail Zoe Lewis</td><td>English</td><td>UK\\t USA\\t Canada</td><td>N/A</td><td>null</td><td>6.2</td><td>124</td><td>2019-03-25</td><td>2020-02-28</td></tr><tr><td>tt0115433</td><td>101 Dalmatians</td><td>An evil high-fashion designer plots to steal Dalmatian puppies in order to make an extravagant fur coat but instead creates an extravagant mess.</td><td>movie</td><td>G</td><td>1996</td><td>27-Nov-96</td><td>12-Nov-19</td><td>103</td><td>Adventure\\t Comedy\\t Crime\\t Family</td><td>Stephen Herek</td><td>Dodie Smith (novel)\\t John Hughes (screenplay)</td><td>Glenn Close\\t Jeff Daniels\\t Joely Richardson\\t Joan Plowright</td><td>English\\t Spanish</td><td>USA\\t UK</td><td>Nominated for 1 Golden Globe. Another 3 wins & 9 nominations.</td><td>49</td><td>5.7</td><td>97785</td><td>1996-11-27</td><td>2019-11-12</td></tr><tr><td>tt0324941</td><td>101 Dalmatians 2: Patch's London Adventure</td><td>Being one of 101 takes its toll on Patch who doesn't feel unique. When he's accidentally left behind on moving day he meets his idol Thunderbolt who enlists him on a publicity campaign.</td><td>movie</td><td>G</td><td>2002</td><td>21-Jan-03</td><td>12-Nov-19</td><td>74</td><td>Animation\\t Adventure\\t Comedy\\t Family\\t Musical</td><td>Jim Kammerud\\t Brian Smith</td><td>Jim Kammerud (story)\\t Dan Root (story)\\t Garrett K. Schiff (story)\\t Brian Smith (story)\\t Jim Kammerud (screenplay)\\t Brian Smith (screenplay)\\t Dodie Smith (novel)\\t Michael Lucker\\t Temple Mathews (additional script material)</td><td>Barry Bostwick\\t Jason Alexander\\t Martin Short\\t Bobby Lockwood</td><td>English</td><td>USA</td><td>5 wins & 10 nominations.</td><td>null</td><td>5.8</td><td>7434</td><td>2003-01-21</td><td>2019-11-12</td></tr><tr><td>tt0211181</td><td>102 Dalmatians</td><td>Cruella DeVil gets out of prison and goes after the puppies once more.</td><td>movie</td><td>G</td><td>2000</td><td>22-Nov-00</td><td>12-Nov-19</td><td>100</td><td>Adventure\\t Comedy\\t Family</td><td>Kevin Lima</td><td>Dodie Smith (novel)\\t Kristen Buckley (story)\\t Brian Regan (story)\\t Kristen Buckley (screenplay)\\t Brian Regan (screenplay)\\t Bob Tzudiker (screenplay)\\t Noni White (screenplay)</td><td>Glenn Close\\t Gérard Depardieu\\t Ioan Gruffudd\\t Alice Evans</td><td>English</td><td>USA\\t UK</td><td>Nominated for 1 Oscar. Another 1 win & 7 nominations.</td><td>35</td><td>4.9</td><td>33444</td><td>2000-11-22</td><td>2019-11-12</td></tr><tr><td>tt1846442</td><td>12 Dates of Christmas</td><td>A story that follows Kate a young woman who after a horrible blind date on Christmas Eve wakes up to find she is re-living that same day and date all over again.</td><td>movie</td><td>PG</td><td>2011</td><td>11-Dec-11</td><td>12-Nov-19</td><td>90</td><td>Comedy\\t Fantasy\\t Romance</td><td>James Hayman</td><td>Aaron Mendelsohn (teleplay)\\t Janet Brownell (teleplay)\\t Aaron Mendelsohn (story)\\t Blake Harris (story)</td><td>Laura Miyata\\t Vijay Mehta\\t Amy Smart\\t Audrey Dwyer</td><td>English</td><td>USA</td><td>1 nomination.</td><td>null</td><td>6.3</td><td>4933</td><td>2011-12-11</td><td>2019-11-12</td></tr><tr><td>tt0046672</td><td>20000 Leagues Under the Sea</td><td>A ship sent to investigate a wave of mysterious sinkings encounters the advanced submarine the Nautilus commanded by Captain Nemo.</td><td>movie</td><td>G</td><td>1954</td><td>20-Jul-55</td><td>12-Nov-19</td><td>127</td><td>Adventure\\t Drama\\t Family\\t Fantasy\\t Sci-Fi</td><td>Richard Fleischer</td><td>Earl Felton (screenplay)</td><td>Kirk Douglas\\t James Mason\\t Paul Lukas\\t Peter Lorre</td><td>English</td><td>USA</td><td>Won 2 Oscars. Another 3 wins & 3 nominations.</td><td>83</td><td>7.2</td><td>27761</td><td>1955-07-20</td><td>2019-11-12</td></tr><tr><td>tt0120623</td><td>A Bug's Life</td><td>\"A misfit ant looking for \"\"warriors\"\" to save his colony from greedy grasshoppers recruits a group of bugs that turn out to be an inept circus troupe.\"</td><td>movie</td><td>G</td><td>1998</td><td>25-Nov-98</td><td>12-Nov-19</td><td>95</td><td>Animation\\t Adventure\\t Comedy\\t Family</td><td>John Lasseter\\t Andrew Stanton(co-director)</td><td>John Lasseter (original story by)\\t Andrew Stanton (original story by)\\t Joe Ranft (original story by)\\t Andrew Stanton (screenplay by)\\t Don McEnery (screenplay by)\\t Bob Shaw (screenplay by)</td><td>Dave Foley\\t Kevin Spacey\\t Julia Louis-Dreyfus\\t Hayden Panettiere</td><td>English</td><td>USA</td><td>Nominated for 1 Oscar. Another 14 wins & 20 nominations.</td><td>77</td><td>7.2</td><td>257065</td><td>1998-11-25</td><td>2019-11-12</td></tr><tr><td>tt12076020</td><td>A Celebration of the Music from Coco</td><td>N/A</td><td>movie</td><td>N/A</td><td>2020</td><td>10-Apr-20</td><td>10-Apr-20</td><td>null</td><td>Music</td><td>Ron de Moraes</td><td>N/A</td><td>Benjamin Bratt\\t Eva Longoria</td><td>English</td><td>USA</td><td>N/A</td><td>null</td><td>7.6</td><td>35</td><td>2020-04-10</td><td>2020-04-10</td></tr><tr><td>tt0113198</td><td>A Goofy Movie</td><td>When Max makes a preposterous promise to a girl he has a crush on his chances to fulfilling it seem hopeless when he is dragged onto a cross-country trip with his embarrassing father Goofy.</td><td>movie</td><td>G</td><td>1995</td><td>7-Apr-95</td><td>12-Nov-19</td><td>78</td><td>Animation\\t Adventure\\t Comedy\\t Family\\t Musical\\t Romance</td><td>Kevin Lima</td><td>Jymn Magon (story)\\t Jymn Magon (screenplay)\\t Chris Matheson (screenplay)\\t Brian Pimental (screenplay)\\t Brian Pimental (story supervisor)\\t Curtis Armstrong (additional written material)\\t John Doolittle (additional written material)</td><td>Bill Farmer\\t Jason Marsden\\t Jim Cummings\\t Kellie Martin</td><td>English</td><td>USA\\t Australia\\t France\\t Canada</td><td>5 nominations.</td><td>null</td><td>6.8</td><td>43655</td><td>1995-04-07</td><td>2019-11-12</td></tr></tbody></table></div>"
      ]
     },
     "metadata": {
      "application/vnd.databricks.v1+output": {
       "addedWidgets": {},
       "aggData": [],
       "aggError": "",
       "aggOverflow": false,
       "aggSchema": [],
       "aggSeriesLimitReached": false,
       "aggType": "",
       "arguments": {},
       "columnCustomDisplayInfos": {},
       "data": [
        [
         "tt0147800",
         "10 Things I Hate About You",
         "A pretty popular teenager can't go out on a date until her ill-tempered older sister does.",
         "movie",
         "PG-13",
         1999,
         "31-Mar-99",
         "12-Nov-19",
         97,
         "Comedy\\t Drama\\t Romance",
         "Gil Junger",
         "Karen McCullah\\t Kirsten Smith",
         "Heath Ledger\\t Julia Stiles\\t Joseph Gordon-Levitt\\t Larisa Oleynik",
         "English\\t French",
         "USA",
         "2 wins & 13 nominations.",
         70,
         7.3,
         "283945",
         "1999-03-31",
         "2019-11-12"
        ],
        [
         "tt7019028",
         "101 Dalmatian Street",
         "This series follows the lives of Delilah and Doug descendants of Pongo and Perdita and their 99 dalmatian pups at 101 Dalmatian Street Camden Town.",
         "series",
         "N/A",
         null,
         "25-Mar-19",
         "28-Feb-20",
         null,
         "Animation\\t Comedy\\t Family",
         "N/A",
         "N/A",
         "Josh Brener\\t Michaela Dietz\\t Bert Davis\\t Abigail Zoe Lewis",
         "English",
         "UK\\t USA\\t Canada",
         "N/A",
         null,
         6.2,
         "124",
         "2019-03-25",
         "2020-02-28"
        ],
        [
         "tt0115433",
         "101 Dalmatians",
         "An evil high-fashion designer plots to steal Dalmatian puppies in order to make an extravagant fur coat but instead creates an extravagant mess.",
         "movie",
         "G",
         1996,
         "27-Nov-96",
         "12-Nov-19",
         103,
         "Adventure\\t Comedy\\t Crime\\t Family",
         "Stephen Herek",
         "Dodie Smith (novel)\\t John Hughes (screenplay)",
         "Glenn Close\\t Jeff Daniels\\t Joely Richardson\\t Joan Plowright",
         "English\\t Spanish",
         "USA\\t UK",
         "Nominated for 1 Golden Globe. Another 3 wins & 9 nominations.",
         49,
         5.7,
         "97785",
         "1996-11-27",
         "2019-11-12"
        ],
        [
         "tt0324941",
         "101 Dalmatians 2: Patch's London Adventure",
         "Being one of 101 takes its toll on Patch who doesn't feel unique. When he's accidentally left behind on moving day he meets his idol Thunderbolt who enlists him on a publicity campaign.",
         "movie",
         "G",
         2002,
         "21-Jan-03",
         "12-Nov-19",
         74,
         "Animation\\t Adventure\\t Comedy\\t Family\\t Musical",
         "Jim Kammerud\\t Brian Smith",
         "Jim Kammerud (story)\\t Dan Root (story)\\t Garrett K. Schiff (story)\\t Brian Smith (story)\\t Jim Kammerud (screenplay)\\t Brian Smith (screenplay)\\t Dodie Smith (novel)\\t Michael Lucker\\t Temple Mathews (additional script material)",
         "Barry Bostwick\\t Jason Alexander\\t Martin Short\\t Bobby Lockwood",
         "English",
         "USA",
         "5 wins & 10 nominations.",
         null,
         5.8,
         "7434",
         "2003-01-21",
         "2019-11-12"
        ],
        [
         "tt0211181",
         "102 Dalmatians",
         "Cruella DeVil gets out of prison and goes after the puppies once more.",
         "movie",
         "G",
         2000,
         "22-Nov-00",
         "12-Nov-19",
         100,
         "Adventure\\t Comedy\\t Family",
         "Kevin Lima",
         "Dodie Smith (novel)\\t Kristen Buckley (story)\\t Brian Regan (story)\\t Kristen Buckley (screenplay)\\t Brian Regan (screenplay)\\t Bob Tzudiker (screenplay)\\t Noni White (screenplay)",
         "Glenn Close\\t Gérard Depardieu\\t Ioan Gruffudd\\t Alice Evans",
         "English",
         "USA\\t UK",
         "Nominated for 1 Oscar. Another 1 win & 7 nominations.",
         35,
         4.9,
         "33444",
         "2000-11-22",
         "2019-11-12"
        ],
        [
         "tt1846442",
         "12 Dates of Christmas",
         "A story that follows Kate a young woman who after a horrible blind date on Christmas Eve wakes up to find she is re-living that same day and date all over again.",
         "movie",
         "PG",
         2011,
         "11-Dec-11",
         "12-Nov-19",
         90,
         "Comedy\\t Fantasy\\t Romance",
         "James Hayman",
         "Aaron Mendelsohn (teleplay)\\t Janet Brownell (teleplay)\\t Aaron Mendelsohn (story)\\t Blake Harris (story)",
         "Laura Miyata\\t Vijay Mehta\\t Amy Smart\\t Audrey Dwyer",
         "English",
         "USA",
         "1 nomination.",
         null,
         6.3,
         "4933",
         "2011-12-11",
         "2019-11-12"
        ],
        [
         "tt0046672",
         "20000 Leagues Under the Sea",
         "A ship sent to investigate a wave of mysterious sinkings encounters the advanced submarine the Nautilus commanded by Captain Nemo.",
         "movie",
         "G",
         1954,
         "20-Jul-55",
         "12-Nov-19",
         127,
         "Adventure\\t Drama\\t Family\\t Fantasy\\t Sci-Fi",
         "Richard Fleischer",
         "Earl Felton (screenplay)",
         "Kirk Douglas\\t James Mason\\t Paul Lukas\\t Peter Lorre",
         "English",
         "USA",
         "Won 2 Oscars. Another 3 wins & 3 nominations.",
         83,
         7.2,
         "27761",
         "1955-07-20",
         "2019-11-12"
        ],
        [
         "tt0120623",
         "A Bug's Life",
         "\"A misfit ant looking for \"\"warriors\"\" to save his colony from greedy grasshoppers recruits a group of bugs that turn out to be an inept circus troupe.\"",
         "movie",
         "G",
         1998,
         "25-Nov-98",
         "12-Nov-19",
         95,
         "Animation\\t Adventure\\t Comedy\\t Family",
         "John Lasseter\\t Andrew Stanton(co-director)",
         "John Lasseter (original story by)\\t Andrew Stanton (original story by)\\t Joe Ranft (original story by)\\t Andrew Stanton (screenplay by)\\t Don McEnery (screenplay by)\\t Bob Shaw (screenplay by)",
         "Dave Foley\\t Kevin Spacey\\t Julia Louis-Dreyfus\\t Hayden Panettiere",
         "English",
         "USA",
         "Nominated for 1 Oscar. Another 14 wins & 20 nominations.",
         77,
         7.2,
         "257065",
         "1998-11-25",
         "2019-11-12"
        ],
        [
         "tt12076020",
         "A Celebration of the Music from Coco",
         "N/A",
         "movie",
         "N/A",
         2020,
         "10-Apr-20",
         "10-Apr-20",
         null,
         "Music",
         "Ron de Moraes",
         "N/A",
         "Benjamin Bratt\\t Eva Longoria",
         "English",
         "USA",
         "N/A",
         null,
         7.6,
         "35",
         "2020-04-10",
         "2020-04-10"
        ],
        [
         "tt0113198",
         "A Goofy Movie",
         "When Max makes a preposterous promise to a girl he has a crush on his chances to fulfilling it seem hopeless when he is dragged onto a cross-country trip with his embarrassing father Goofy.",
         "movie",
         "G",
         1995,
         "7-Apr-95",
         "12-Nov-19",
         78,
         "Animation\\t Adventure\\t Comedy\\t Family\\t Musical\\t Romance",
         "Kevin Lima",
         "Jymn Magon (story)\\t Jymn Magon (screenplay)\\t Chris Matheson (screenplay)\\t Brian Pimental (screenplay)\\t Brian Pimental (story supervisor)\\t Curtis Armstrong (additional written material)\\t John Doolittle (additional written material)",
         "Bill Farmer\\t Jason Marsden\\t Jim Cummings\\t Kellie Martin",
         "English",
         "USA\\t Australia\\t France\\t Canada",
         "5 nominations.",
         null,
         6.8,
         "43655",
         "1995-04-07",
         "2019-11-12"
        ]
       ],
       "datasetInfos": [],
       "dbfsResultPath": null,
       "isJsonSchema": true,
       "metadata": {},
       "overflow": false,
       "plotOptions": {
        "customPlotOptions": {},
        "displayType": "table",
        "pivotAggregation": null,
        "pivotColumns": null,
        "xColumns": null,
        "yColumns": null
       },
       "removedWidgets": [],
       "schema": [
        {
         "metadata": "{}",
         "name": "imdb_id",
         "type": "\"string\""
        },
        {
         "metadata": "{}",
         "name": "title",
         "type": "\"string\""
        },
        {
         "metadata": "{}",
         "name": "plot",
         "type": "\"string\""
        },
        {
         "metadata": "{}",
         "name": "type",
         "type": "\"string\""
        },
        {
         "metadata": "{}",
         "name": "rated",
         "type": "\"string\""
        },
        {
         "metadata": "{}",
         "name": "year",
         "type": "\"integer\""
        },
        {
         "metadata": "{}",
         "name": "released_at",
         "type": "\"string\""
        },
        {
         "metadata": "{}",
         "name": "added_at",
         "type": "\"string\""
        },
        {
         "metadata": "{}",
         "name": "runtime",
         "type": "\"integer\""
        },
        {
         "metadata": "{}",
         "name": "genre",
         "type": "\"string\""
        },
        {
         "metadata": "{}",
         "name": "director",
         "type": "\"string\""
        },
        {
         "metadata": "{}",
         "name": "writer",
         "type": "\"string\""
        },
        {
         "metadata": "{}",
         "name": "actors",
         "type": "\"string\""
        },
        {
         "metadata": "{}",
         "name": "language",
         "type": "\"string\""
        },
        {
         "metadata": "{}",
         "name": "country",
         "type": "\"string\""
        },
        {
         "metadata": "{}",
         "name": "awards",
         "type": "\"string\""
        },
        {
         "metadata": "{}",
         "name": "metascore",
         "type": "\"integer\""
        },
        {
         "metadata": "{}",
         "name": "imdb_rating",
         "type": "\"float\""
        },
        {
         "metadata": "{}",
         "name": "imdb_votes",
         "type": "\"string\""
        },
        {
         "metadata": "{}",
         "name": "released_date",
         "type": "\"date\""
        },
        {
         "metadata": "{}",
         "name": "added_date",
         "type": "\"date\""
        }
       ],
       "type": "table"
      }
     },
     "output_type": "display_data"
    }
   ],
   "source": [
    "#check the data once\n",
    "\n",
    "display(df_disney.limit(10))"
   ]
  },
  {
   "cell_type": "code",
   "execution_count": 0,
   "metadata": {
    "application/vnd.databricks.v1+cell": {
     "cellMetadata": {
      "byteLimit": 2048000,
      "rowLimit": 10000
     },
     "inputWidgets": {},
     "nuid": "b2532c7a-d21b-4e1d-b8ce-ecdadd7b7ef4",
     "showTitle": false,
     "title": ""
    }
   },
   "outputs": [
    {
     "output_type": "display_data",
     "data": {
      "text/html": [
       "<style scoped>\n",
       "  .table-result-container {\n",
       "    max-height: 300px;\n",
       "    overflow: auto;\n",
       "  }\n",
       "  table, th, td {\n",
       "    border: 1px solid black;\n",
       "    border-collapse: collapse;\n",
       "  }\n",
       "  th, td {\n",
       "    padding: 5px;\n",
       "  }\n",
       "  th {\n",
       "    text-align: left;\n",
       "  }\n",
       "</style><div class='table-result-container'><table class='table-result'><thead style='background-color: white'><tr><th>imdb_id</th><th>title</th><th>plot</th><th>type</th><th>rated</th><th>year</th><th>released_at</th><th>added_at</th><th>runtime</th><th>genre</th><th>director</th><th>writer</th><th>actors</th><th>language</th><th>country</th><th>awards</th><th>metascore</th><th>imdb_rating</th><th>imdb_votes</th><th>released_date</th><th>added_date</th></tr></thead><tbody><tr><td>tt2294629</td><td>Frozen</td><td>When the newly crowned Queen Elsa accidentally uses her power to turn things into ice to curse her home in infinite winter her sister Anna teams up with a mountain man his playful reindeer and a snowman to change the weather condition.</td><td>movie</td><td>PG</td><td>2013</td><td>27-Nov-13</td><td>12-Nov-19</td><td>102</td><td>Animation\\t Adventure\\t Comedy\\t Family\\t Fantasy\\t Musical</td><td>Chris Buck\\t Jennifer Lee</td><td>\"Jennifer Lee (screenplay by)\\t Hans Christian Andersen (story inspired by: \"\"The Snow Queen\"\" by)\\t Chris Buck (story by)\\t Jennifer Lee (story by)\\t Shane Morris (story by)\"</td><td>Kristen Bell\\t Idina Menzel\\t Jonathan Groff\\t Josh Gad</td><td>English\\t Norwegian</td><td>USA</td><td>Won 2 Oscars. Another 79 wins & 59 nominations.</td><td>75</td><td>7.5</td><td>551637</td><td>2013-11-27</td><td>2019-11-12</td></tr></tbody></table></div>"
      ]
     },
     "metadata": {
      "application/vnd.databricks.v1+output": {
       "addedWidgets": {},
       "aggData": [],
       "aggError": "",
       "aggOverflow": false,
       "aggSchema": [],
       "aggSeriesLimitReached": false,
       "aggType": "",
       "arguments": {},
       "columnCustomDisplayInfos": {},
       "data": [
        [
         "tt2294629",
         "Frozen",
         "When the newly crowned Queen Elsa accidentally uses her power to turn things into ice to curse her home in infinite winter her sister Anna teams up with a mountain man his playful reindeer and a snowman to change the weather condition.",
         "movie",
         "PG",
         2013,
         "27-Nov-13",
         "12-Nov-19",
         102,
         "Animation\\t Adventure\\t Comedy\\t Family\\t Fantasy\\t Musical",
         "Chris Buck\\t Jennifer Lee",
         "\"Jennifer Lee (screenplay by)\\t Hans Christian Andersen (story inspired by: \"\"The Snow Queen\"\" by)\\t Chris Buck (story by)\\t Jennifer Lee (story by)\\t Shane Morris (story by)\"",
         "Kristen Bell\\t Idina Menzel\\t Jonathan Groff\\t Josh Gad",
         "English\\t Norwegian",
         "USA",
         "Won 2 Oscars. Another 79 wins & 59 nominations.",
         75,
         7.5,
         "551637",
         "2013-11-27",
         "2019-11-12"
        ]
       ],
       "datasetInfos": [],
       "dbfsResultPath": null,
       "isJsonSchema": true,
       "metadata": {},
       "overflow": false,
       "plotOptions": {
        "customPlotOptions": {},
        "displayType": "table",
        "pivotAggregation": null,
        "pivotColumns": null,
        "xColumns": null,
        "yColumns": null
       },
       "removedWidgets": [],
       "schema": [
        {
         "metadata": "{}",
         "name": "imdb_id",
         "type": "\"string\""
        },
        {
         "metadata": "{}",
         "name": "title",
         "type": "\"string\""
        },
        {
         "metadata": "{}",
         "name": "plot",
         "type": "\"string\""
        },
        {
         "metadata": "{}",
         "name": "type",
         "type": "\"string\""
        },
        {
         "metadata": "{}",
         "name": "rated",
         "type": "\"string\""
        },
        {
         "metadata": "{}",
         "name": "year",
         "type": "\"integer\""
        },
        {
         "metadata": "{}",
         "name": "released_at",
         "type": "\"string\""
        },
        {
         "metadata": "{}",
         "name": "added_at",
         "type": "\"string\""
        },
        {
         "metadata": "{}",
         "name": "runtime",
         "type": "\"integer\""
        },
        {
         "metadata": "{}",
         "name": "genre",
         "type": "\"string\""
        },
        {
         "metadata": "{}",
         "name": "director",
         "type": "\"string\""
        },
        {
         "metadata": "{}",
         "name": "writer",
         "type": "\"string\""
        },
        {
         "metadata": "{}",
         "name": "actors",
         "type": "\"string\""
        },
        {
         "metadata": "{}",
         "name": "language",
         "type": "\"string\""
        },
        {
         "metadata": "{}",
         "name": "country",
         "type": "\"string\""
        },
        {
         "metadata": "{}",
         "name": "awards",
         "type": "\"string\""
        },
        {
         "metadata": "{}",
         "name": "metascore",
         "type": "\"integer\""
        },
        {
         "metadata": "{}",
         "name": "imdb_rating",
         "type": "\"float\""
        },
        {
         "metadata": "{}",
         "name": "imdb_votes",
         "type": "\"string\""
        },
        {
         "metadata": "{}",
         "name": "released_date",
         "type": "\"date\""
        },
        {
         "metadata": "{}",
         "name": "added_date",
         "type": "\"date\""
        }
       ],
       "type": "table"
      }
     },
     "output_type": "display_data"
    }
   ],
   "source": [
    "display(df_disney.filter(df_disney.title =='Frozen'))"
   ]
  },
  {
   "cell_type": "code",
   "execution_count": 0,
   "metadata": {
    "application/vnd.databricks.v1+cell": {
     "cellMetadata": {
      "byteLimit": 2048000,
      "rowLimit": 10000
     },
     "inputWidgets": {},
     "nuid": "49eaec0e-50cb-4076-93fc-6a1e2f637a63",
     "showTitle": false,
     "title": ""
    }
   },
   "outputs": [
    {
     "output_type": "stream",
     "name": "stdout",
     "output_type": "stream",
     "text": [
      "+----+\n|Wins|\n+----+\n|2   |\n|null|\n|3   |\n|5   |\n|1   |\n|null|\n|3   |\n|14  |\n|null|\n|null|\n|null|\n|null|\n|2   |\n|null|\n|5   |\n|7   |\n|31  |\n|2   |\n|null|\n|null|\n+----+\nonly showing top 20 rows\n\n+--------+\n|Winsnull|\n+--------+\n|     616|\n+--------+\n\n+---------------+\n|Nominationsnull|\n+---------------+\n|            481|\n+---------------+\n\n"
     ]
    }
   ],
   "source": [
    "from pyspark.sql.functions import regexp_extract\n",
    "wins_pattern = r\"(\\d+)\\s+(?:win|wins)\"\n",
    "nominations_pattern = r\"(\\d+)\\s+(?:nomination|nominations)\"\n",
    "\n",
    "# Use regexp_extract to extract numeric values for wins and nominations\n",
    "df_disney = df_disney.withColumn(\"Wins\", regexp_extract(col(\"awards\"), wins_pattern, 1).cast(\"int\"))\n",
    "df_disney = df_disney.withColumn(\"Nominations\", regexp_extract(col(\"awards\"), nominations_pattern, 1).cast(\"int\"))\n",
    "\n",
    "# # Show the resulting DataFrame\n",
    "# disney.show(truncate=False)\n",
    "\n",
    "# Show the resulting DataFrame\n",
    "df_disney.select(col('Wins')).show(truncate=False)\n",
    "\n",
    "# Comparing nulls\n",
    "df_disney.select(sum(col('Wins').isNull().cast(\"int\")).alias('Winsnull')).show()\n",
    "df_disney.filter(col(\"Wins\").isNull() & col(\"Nominations\").isNull()).count()\n",
    "df_disney.select(sum(col('Nominations').isNull().cast(\"int\")).alias('Nominationsnull')).show()"
   ]
  },
  {
   "cell_type": "code",
   "execution_count": 0,
   "metadata": {
    "application/vnd.databricks.v1+cell": {
     "cellMetadata": {
      "byteLimit": 2048000,
      "rowLimit": 10000
     },
     "inputWidgets": {},
     "nuid": "cd375e59-910a-4f3d-ac43-c01d931d9472",
     "showTitle": false,
     "title": ""
    }
   },
   "outputs": [
    {
     "output_type": "stream",
     "name": "stdout",
     "output_type": "stream",
     "text": [
      "Out[87]: 1"
     ]
    }
   ],
   "source": [
    "df_disney.rdd.getNumPartitions()"
   ]
  },
  {
   "cell_type": "code",
   "execution_count": 0,
   "metadata": {
    "application/vnd.databricks.v1+cell": {
     "cellMetadata": {
      "byteLimit": 2048000,
      "rowLimit": 10000
     },
     "inputWidgets": {},
     "nuid": "ee432f96-7551-456c-9108-934710551aec",
     "showTitle": false,
     "title": ""
    }
   },
   "outputs": [],
   "source": [
    "#drop unnecessary columns\n",
    "df_disney=df_disney.drop('released_at', 'added_at')"
   ]
  },
  {
   "cell_type": "code",
   "execution_count": 0,
   "metadata": {
    "application/vnd.databricks.v1+cell": {
     "cellMetadata": {
      "byteLimit": 2048000,
      "rowLimit": 10000
     },
     "inputWidgets": {},
     "nuid": "5fd9b57f-dad3-4acf-9572-2737ce15ea56",
     "showTitle": false,
     "title": ""
    }
   },
   "outputs": [
    {
     "output_type": "stream",
     "name": "stdout",
     "output_type": "stream",
     "text": [
      "Out[89]: ['imdb_id',\n 'title',\n 'plot',\n 'type',\n 'rated',\n 'year',\n 'runtime',\n 'genre',\n 'director',\n 'writer',\n 'actors',\n 'language',\n 'country',\n 'awards',\n 'metascore',\n 'imdb_rating',\n 'imdb_votes',\n 'released_date',\n 'added_date',\n 'Wins',\n 'Nominations']"
     ]
    }
   ],
   "source": [
    "df_disney.columns"
   ]
  },
  {
   "cell_type": "code",
   "execution_count": 0,
   "metadata": {
    "application/vnd.databricks.v1+cell": {
     "cellMetadata": {
      "byteLimit": 2048000,
      "rowLimit": 10000
     },
     "inputWidgets": {},
     "nuid": "0f3d7033-9e35-43c1-ad60-d326c57c48d3",
     "showTitle": false,
     "title": ""
    }
   },
   "outputs": [],
   "source": [
    "from pyspark.sql.functions import col, regexp_replace\n",
    "# Convert 'value' column to integer\n",
    "df_disney = df_disney.withColumn(\"imdb_votes_for\", col(\"imdb_votes\").cast(\"int\"))"
   ]
  },
  {
   "cell_type": "code",
   "execution_count": 0,
   "metadata": {
    "application/vnd.databricks.v1+cell": {
     "cellMetadata": {
      "byteLimit": 2048000,
      "rowLimit": 10000
     },
     "inputWidgets": {},
     "nuid": "de2d55f7-377a-4fdf-a573-86fafc83f41d",
     "showTitle": false,
     "title": ""
    }
   },
   "outputs": [
    {
     "output_type": "display_data",
     "data": {
      "text/html": [
       "<style scoped>\n",
       "  .table-result-container {\n",
       "    max-height: 300px;\n",
       "    overflow: auto;\n",
       "  }\n",
       "  table, th, td {\n",
       "    border: 1px solid black;\n",
       "    border-collapse: collapse;\n",
       "  }\n",
       "  th, td {\n",
       "    padding: 5px;\n",
       "  }\n",
       "  th {\n",
       "    text-align: left;\n",
       "  }\n",
       "</style><div class='table-result-container'><table class='table-result'><thead style='background-color: white'><tr><th>imdb_id</th><th>title</th><th>plot</th><th>type</th><th>rated</th><th>year</th><th>runtime</th><th>genre</th><th>director</th><th>writer</th><th>actors</th><th>language</th><th>country</th><th>awards</th><th>metascore</th><th>imdb_rating</th><th>imdb_votes</th><th>released_date</th><th>added_date</th><th>Wins</th><th>Nominations</th><th>imdb_votes_for</th></tr></thead><tbody><tr><td>tt0147800</td><td>10 Things I Hate About You</td><td>A pretty popular teenager can't go out on a date until her ill-tempered older sister does.</td><td>movie</td><td>PG-13</td><td>1999</td><td>97</td><td>Comedy\\t Drama\\t Romance</td><td>Gil Junger</td><td>Karen McCullah\\t Kirsten Smith</td><td>Heath Ledger\\t Julia Stiles\\t Joseph Gordon-Levitt\\t Larisa Oleynik</td><td>English\\t French</td><td>USA</td><td>2 wins & 13 nominations.</td><td>70</td><td>7.3</td><td>283945</td><td>1999-03-31</td><td>2019-11-12</td><td>2</td><td>13</td><td>283945</td></tr><tr><td>tt7019028</td><td>101 Dalmatian Street</td><td>This series follows the lives of Delilah and Doug descendants of Pongo and Perdita and their 99 dalmatian pups at 101 Dalmatian Street Camden Town.</td><td>series</td><td>N/A</td><td>null</td><td>null</td><td>Animation\\t Comedy\\t Family</td><td>N/A</td><td>N/A</td><td>Josh Brener\\t Michaela Dietz\\t Bert Davis\\t Abigail Zoe Lewis</td><td>English</td><td>UK\\t USA\\t Canada</td><td>N/A</td><td>null</td><td>6.2</td><td>124</td><td>2019-03-25</td><td>2020-02-28</td><td>null</td><td>null</td><td>124</td></tr><tr><td>tt0115433</td><td>101 Dalmatians</td><td>An evil high-fashion designer plots to steal Dalmatian puppies in order to make an extravagant fur coat but instead creates an extravagant mess.</td><td>movie</td><td>G</td><td>1996</td><td>103</td><td>Adventure\\t Comedy\\t Crime\\t Family</td><td>Stephen Herek</td><td>Dodie Smith (novel)\\t John Hughes (screenplay)</td><td>Glenn Close\\t Jeff Daniels\\t Joely Richardson\\t Joan Plowright</td><td>English\\t Spanish</td><td>USA\\t UK</td><td>Nominated for 1 Golden Globe. Another 3 wins & 9 nominations.</td><td>49</td><td>5.7</td><td>97785</td><td>1996-11-27</td><td>2019-11-12</td><td>3</td><td>9</td><td>97785</td></tr><tr><td>tt0324941</td><td>101 Dalmatians 2: Patch's London Adventure</td><td>Being one of 101 takes its toll on Patch who doesn't feel unique. When he's accidentally left behind on moving day he meets his idol Thunderbolt who enlists him on a publicity campaign.</td><td>movie</td><td>G</td><td>2002</td><td>74</td><td>Animation\\t Adventure\\t Comedy\\t Family\\t Musical</td><td>Jim Kammerud\\t Brian Smith</td><td>Jim Kammerud (story)\\t Dan Root (story)\\t Garrett K. Schiff (story)\\t Brian Smith (story)\\t Jim Kammerud (screenplay)\\t Brian Smith (screenplay)\\t Dodie Smith (novel)\\t Michael Lucker\\t Temple Mathews (additional script material)</td><td>Barry Bostwick\\t Jason Alexander\\t Martin Short\\t Bobby Lockwood</td><td>English</td><td>USA</td><td>5 wins & 10 nominations.</td><td>null</td><td>5.8</td><td>7434</td><td>2003-01-21</td><td>2019-11-12</td><td>5</td><td>10</td><td>7434</td></tr><tr><td>tt0211181</td><td>102 Dalmatians</td><td>Cruella DeVil gets out of prison and goes after the puppies once more.</td><td>movie</td><td>G</td><td>2000</td><td>100</td><td>Adventure\\t Comedy\\t Family</td><td>Kevin Lima</td><td>Dodie Smith (novel)\\t Kristen Buckley (story)\\t Brian Regan (story)\\t Kristen Buckley (screenplay)\\t Brian Regan (screenplay)\\t Bob Tzudiker (screenplay)\\t Noni White (screenplay)</td><td>Glenn Close\\t Gérard Depardieu\\t Ioan Gruffudd\\t Alice Evans</td><td>English</td><td>USA\\t UK</td><td>Nominated for 1 Oscar. Another 1 win & 7 nominations.</td><td>35</td><td>4.9</td><td>33444</td><td>2000-11-22</td><td>2019-11-12</td><td>1</td><td>7</td><td>33444</td></tr><tr><td>tt1846442</td><td>12 Dates of Christmas</td><td>A story that follows Kate a young woman who after a horrible blind date on Christmas Eve wakes up to find she is re-living that same day and date all over again.</td><td>movie</td><td>PG</td><td>2011</td><td>90</td><td>Comedy\\t Fantasy\\t Romance</td><td>James Hayman</td><td>Aaron Mendelsohn (teleplay)\\t Janet Brownell (teleplay)\\t Aaron Mendelsohn (story)\\t Blake Harris (story)</td><td>Laura Miyata\\t Vijay Mehta\\t Amy Smart\\t Audrey Dwyer</td><td>English</td><td>USA</td><td>1 nomination.</td><td>null</td><td>6.3</td><td>4933</td><td>2011-12-11</td><td>2019-11-12</td><td>null</td><td>1</td><td>4933</td></tr><tr><td>tt0046672</td><td>20000 Leagues Under the Sea</td><td>A ship sent to investigate a wave of mysterious sinkings encounters the advanced submarine the Nautilus commanded by Captain Nemo.</td><td>movie</td><td>G</td><td>1954</td><td>127</td><td>Adventure\\t Drama\\t Family\\t Fantasy\\t Sci-Fi</td><td>Richard Fleischer</td><td>Earl Felton (screenplay)</td><td>Kirk Douglas\\t James Mason\\t Paul Lukas\\t Peter Lorre</td><td>English</td><td>USA</td><td>Won 2 Oscars. Another 3 wins & 3 nominations.</td><td>83</td><td>7.2</td><td>27761</td><td>1955-07-20</td><td>2019-11-12</td><td>3</td><td>3</td><td>27761</td></tr><tr><td>tt0120623</td><td>A Bug's Life</td><td>\"A misfit ant looking for \"\"warriors\"\" to save his colony from greedy grasshoppers recruits a group of bugs that turn out to be an inept circus troupe.\"</td><td>movie</td><td>G</td><td>1998</td><td>95</td><td>Animation\\t Adventure\\t Comedy\\t Family</td><td>John Lasseter\\t Andrew Stanton(co-director)</td><td>John Lasseter (original story by)\\t Andrew Stanton (original story by)\\t Joe Ranft (original story by)\\t Andrew Stanton (screenplay by)\\t Don McEnery (screenplay by)\\t Bob Shaw (screenplay by)</td><td>Dave Foley\\t Kevin Spacey\\t Julia Louis-Dreyfus\\t Hayden Panettiere</td><td>English</td><td>USA</td><td>Nominated for 1 Oscar. Another 14 wins & 20 nominations.</td><td>77</td><td>7.2</td><td>257065</td><td>1998-11-25</td><td>2019-11-12</td><td>14</td><td>20</td><td>257065</td></tr><tr><td>tt12076020</td><td>A Celebration of the Music from Coco</td><td>N/A</td><td>movie</td><td>N/A</td><td>2020</td><td>null</td><td>Music</td><td>Ron de Moraes</td><td>N/A</td><td>Benjamin Bratt\\t Eva Longoria</td><td>English</td><td>USA</td><td>N/A</td><td>null</td><td>7.6</td><td>35</td><td>2020-04-10</td><td>2020-04-10</td><td>null</td><td>null</td><td>35</td></tr><tr><td>tt0113198</td><td>A Goofy Movie</td><td>When Max makes a preposterous promise to a girl he has a crush on his chances to fulfilling it seem hopeless when he is dragged onto a cross-country trip with his embarrassing father Goofy.</td><td>movie</td><td>G</td><td>1995</td><td>78</td><td>Animation\\t Adventure\\t Comedy\\t Family\\t Musical\\t Romance</td><td>Kevin Lima</td><td>Jymn Magon (story)\\t Jymn Magon (screenplay)\\t Chris Matheson (screenplay)\\t Brian Pimental (screenplay)\\t Brian Pimental (story supervisor)\\t Curtis Armstrong (additional written material)\\t John Doolittle (additional written material)</td><td>Bill Farmer\\t Jason Marsden\\t Jim Cummings\\t Kellie Martin</td><td>English</td><td>USA\\t Australia\\t France\\t Canada</td><td>5 nominations.</td><td>null</td><td>6.8</td><td>43655</td><td>1995-04-07</td><td>2019-11-12</td><td>null</td><td>5</td><td>43655</td></tr></tbody></table></div>"
      ]
     },
     "metadata": {
      "application/vnd.databricks.v1+output": {
       "addedWidgets": {},
       "aggData": [],
       "aggError": "",
       "aggOverflow": false,
       "aggSchema": [],
       "aggSeriesLimitReached": false,
       "aggType": "",
       "arguments": {},
       "columnCustomDisplayInfos": {},
       "data": [
        [
         "tt0147800",
         "10 Things I Hate About You",
         "A pretty popular teenager can't go out on a date until her ill-tempered older sister does.",
         "movie",
         "PG-13",
         1999,
         97,
         "Comedy\\t Drama\\t Romance",
         "Gil Junger",
         "Karen McCullah\\t Kirsten Smith",
         "Heath Ledger\\t Julia Stiles\\t Joseph Gordon-Levitt\\t Larisa Oleynik",
         "English\\t French",
         "USA",
         "2 wins & 13 nominations.",
         70,
         7.3,
         "283945",
         "1999-03-31",
         "2019-11-12",
         2,
         13,
         283945
        ],
        [
         "tt7019028",
         "101 Dalmatian Street",
         "This series follows the lives of Delilah and Doug descendants of Pongo and Perdita and their 99 dalmatian pups at 101 Dalmatian Street Camden Town.",
         "series",
         "N/A",
         null,
         null,
         "Animation\\t Comedy\\t Family",
         "N/A",
         "N/A",
         "Josh Brener\\t Michaela Dietz\\t Bert Davis\\t Abigail Zoe Lewis",
         "English",
         "UK\\t USA\\t Canada",
         "N/A",
         null,
         6.2,
         "124",
         "2019-03-25",
         "2020-02-28",
         null,
         null,
         124
        ],
        [
         "tt0115433",
         "101 Dalmatians",
         "An evil high-fashion designer plots to steal Dalmatian puppies in order to make an extravagant fur coat but instead creates an extravagant mess.",
         "movie",
         "G",
         1996,
         103,
         "Adventure\\t Comedy\\t Crime\\t Family",
         "Stephen Herek",
         "Dodie Smith (novel)\\t John Hughes (screenplay)",
         "Glenn Close\\t Jeff Daniels\\t Joely Richardson\\t Joan Plowright",
         "English\\t Spanish",
         "USA\\t UK",
         "Nominated for 1 Golden Globe. Another 3 wins & 9 nominations.",
         49,
         5.7,
         "97785",
         "1996-11-27",
         "2019-11-12",
         3,
         9,
         97785
        ],
        [
         "tt0324941",
         "101 Dalmatians 2: Patch's London Adventure",
         "Being one of 101 takes its toll on Patch who doesn't feel unique. When he's accidentally left behind on moving day he meets his idol Thunderbolt who enlists him on a publicity campaign.",
         "movie",
         "G",
         2002,
         74,
         "Animation\\t Adventure\\t Comedy\\t Family\\t Musical",
         "Jim Kammerud\\t Brian Smith",
         "Jim Kammerud (story)\\t Dan Root (story)\\t Garrett K. Schiff (story)\\t Brian Smith (story)\\t Jim Kammerud (screenplay)\\t Brian Smith (screenplay)\\t Dodie Smith (novel)\\t Michael Lucker\\t Temple Mathews (additional script material)",
         "Barry Bostwick\\t Jason Alexander\\t Martin Short\\t Bobby Lockwood",
         "English",
         "USA",
         "5 wins & 10 nominations.",
         null,
         5.8,
         "7434",
         "2003-01-21",
         "2019-11-12",
         5,
         10,
         7434
        ],
        [
         "tt0211181",
         "102 Dalmatians",
         "Cruella DeVil gets out of prison and goes after the puppies once more.",
         "movie",
         "G",
         2000,
         100,
         "Adventure\\t Comedy\\t Family",
         "Kevin Lima",
         "Dodie Smith (novel)\\t Kristen Buckley (story)\\t Brian Regan (story)\\t Kristen Buckley (screenplay)\\t Brian Regan (screenplay)\\t Bob Tzudiker (screenplay)\\t Noni White (screenplay)",
         "Glenn Close\\t Gérard Depardieu\\t Ioan Gruffudd\\t Alice Evans",
         "English",
         "USA\\t UK",
         "Nominated for 1 Oscar. Another 1 win & 7 nominations.",
         35,
         4.9,
         "33444",
         "2000-11-22",
         "2019-11-12",
         1,
         7,
         33444
        ],
        [
         "tt1846442",
         "12 Dates of Christmas",
         "A story that follows Kate a young woman who after a horrible blind date on Christmas Eve wakes up to find she is re-living that same day and date all over again.",
         "movie",
         "PG",
         2011,
         90,
         "Comedy\\t Fantasy\\t Romance",
         "James Hayman",
         "Aaron Mendelsohn (teleplay)\\t Janet Brownell (teleplay)\\t Aaron Mendelsohn (story)\\t Blake Harris (story)",
         "Laura Miyata\\t Vijay Mehta\\t Amy Smart\\t Audrey Dwyer",
         "English",
         "USA",
         "1 nomination.",
         null,
         6.3,
         "4933",
         "2011-12-11",
         "2019-11-12",
         null,
         1,
         4933
        ],
        [
         "tt0046672",
         "20000 Leagues Under the Sea",
         "A ship sent to investigate a wave of mysterious sinkings encounters the advanced submarine the Nautilus commanded by Captain Nemo.",
         "movie",
         "G",
         1954,
         127,
         "Adventure\\t Drama\\t Family\\t Fantasy\\t Sci-Fi",
         "Richard Fleischer",
         "Earl Felton (screenplay)",
         "Kirk Douglas\\t James Mason\\t Paul Lukas\\t Peter Lorre",
         "English",
         "USA",
         "Won 2 Oscars. Another 3 wins & 3 nominations.",
         83,
         7.2,
         "27761",
         "1955-07-20",
         "2019-11-12",
         3,
         3,
         27761
        ],
        [
         "tt0120623",
         "A Bug's Life",
         "\"A misfit ant looking for \"\"warriors\"\" to save his colony from greedy grasshoppers recruits a group of bugs that turn out to be an inept circus troupe.\"",
         "movie",
         "G",
         1998,
         95,
         "Animation\\t Adventure\\t Comedy\\t Family",
         "John Lasseter\\t Andrew Stanton(co-director)",
         "John Lasseter (original story by)\\t Andrew Stanton (original story by)\\t Joe Ranft (original story by)\\t Andrew Stanton (screenplay by)\\t Don McEnery (screenplay by)\\t Bob Shaw (screenplay by)",
         "Dave Foley\\t Kevin Spacey\\t Julia Louis-Dreyfus\\t Hayden Panettiere",
         "English",
         "USA",
         "Nominated for 1 Oscar. Another 14 wins & 20 nominations.",
         77,
         7.2,
         "257065",
         "1998-11-25",
         "2019-11-12",
         14,
         20,
         257065
        ],
        [
         "tt12076020",
         "A Celebration of the Music from Coco",
         "N/A",
         "movie",
         "N/A",
         2020,
         null,
         "Music",
         "Ron de Moraes",
         "N/A",
         "Benjamin Bratt\\t Eva Longoria",
         "English",
         "USA",
         "N/A",
         null,
         7.6,
         "35",
         "2020-04-10",
         "2020-04-10",
         null,
         null,
         35
        ],
        [
         "tt0113198",
         "A Goofy Movie",
         "When Max makes a preposterous promise to a girl he has a crush on his chances to fulfilling it seem hopeless when he is dragged onto a cross-country trip with his embarrassing father Goofy.",
         "movie",
         "G",
         1995,
         78,
         "Animation\\t Adventure\\t Comedy\\t Family\\t Musical\\t Romance",
         "Kevin Lima",
         "Jymn Magon (story)\\t Jymn Magon (screenplay)\\t Chris Matheson (screenplay)\\t Brian Pimental (screenplay)\\t Brian Pimental (story supervisor)\\t Curtis Armstrong (additional written material)\\t John Doolittle (additional written material)",
         "Bill Farmer\\t Jason Marsden\\t Jim Cummings\\t Kellie Martin",
         "English",
         "USA\\t Australia\\t France\\t Canada",
         "5 nominations.",
         null,
         6.8,
         "43655",
         "1995-04-07",
         "2019-11-12",
         null,
         5,
         43655
        ]
       ],
       "datasetInfos": [],
       "dbfsResultPath": null,
       "isJsonSchema": true,
       "metadata": {},
       "overflow": false,
       "plotOptions": {
        "customPlotOptions": {},
        "displayType": "table",
        "pivotAggregation": null,
        "pivotColumns": null,
        "xColumns": null,
        "yColumns": null
       },
       "removedWidgets": [],
       "schema": [
        {
         "metadata": "{}",
         "name": "imdb_id",
         "type": "\"string\""
        },
        {
         "metadata": "{}",
         "name": "title",
         "type": "\"string\""
        },
        {
         "metadata": "{}",
         "name": "plot",
         "type": "\"string\""
        },
        {
         "metadata": "{}",
         "name": "type",
         "type": "\"string\""
        },
        {
         "metadata": "{}",
         "name": "rated",
         "type": "\"string\""
        },
        {
         "metadata": "{}",
         "name": "year",
         "type": "\"integer\""
        },
        {
         "metadata": "{}",
         "name": "runtime",
         "type": "\"integer\""
        },
        {
         "metadata": "{}",
         "name": "genre",
         "type": "\"string\""
        },
        {
         "metadata": "{}",
         "name": "director",
         "type": "\"string\""
        },
        {
         "metadata": "{}",
         "name": "writer",
         "type": "\"string\""
        },
        {
         "metadata": "{}",
         "name": "actors",
         "type": "\"string\""
        },
        {
         "metadata": "{}",
         "name": "language",
         "type": "\"string\""
        },
        {
         "metadata": "{}",
         "name": "country",
         "type": "\"string\""
        },
        {
         "metadata": "{}",
         "name": "awards",
         "type": "\"string\""
        },
        {
         "metadata": "{}",
         "name": "metascore",
         "type": "\"integer\""
        },
        {
         "metadata": "{}",
         "name": "imdb_rating",
         "type": "\"float\""
        },
        {
         "metadata": "{}",
         "name": "imdb_votes",
         "type": "\"string\""
        },
        {
         "metadata": "{}",
         "name": "released_date",
         "type": "\"date\""
        },
        {
         "metadata": "{}",
         "name": "added_date",
         "type": "\"date\""
        },
        {
         "metadata": "{}",
         "name": "Wins",
         "type": "\"integer\""
        },
        {
         "metadata": "{}",
         "name": "Nominations",
         "type": "\"integer\""
        },
        {
         "metadata": "{}",
         "name": "imdb_votes_for",
         "type": "\"integer\""
        }
       ],
       "type": "table"
      }
     },
     "output_type": "display_data"
    }
   ],
   "source": [
    "display(df_disney.limit(10))"
   ]
  },
  {
   "cell_type": "code",
   "execution_count": 0,
   "metadata": {
    "application/vnd.databricks.v1+cell": {
     "cellMetadata": {
      "byteLimit": 2048000,
      "rowLimit": 10000
     },
     "inputWidgets": {},
     "nuid": "70855c5a-327d-49c4-b558-63b87effb84f",
     "showTitle": false,
     "title": ""
    }
   },
   "outputs": [
    {
     "output_type": "stream",
     "name": "stdout",
     "output_type": "stream",
     "text": [
      "+--------------+\n|imdb_votes_for|\n+--------------+\n|        283945|\n|           124|\n|         97785|\n|          7434|\n|         33444|\n|          4933|\n|         27761|\n|        257065|\n|            35|\n|         43655|\n|          5479|\n|           488|\n|          1042|\n|            59|\n|         38659|\n|        204537|\n|        356283|\n|         31603|\n|         25623|\n|        123377|\n+--------------+\nonly showing top 20 rows\n\n"
     ]
    }
   ],
   "source": [
    "df_disney.select(col('imdb_votes_for')).show()"
   ]
  },
  {
   "cell_type": "code",
   "execution_count": 0,
   "metadata": {
    "application/vnd.databricks.v1+cell": {
     "cellMetadata": {
      "byteLimit": 2048000,
      "rowLimit": 10000
     },
     "inputWidgets": {},
     "nuid": "03688897-d053-4821-bfde-d0e458402f41",
     "showTitle": false,
     "title": ""
    }
   },
   "outputs": [
    {
     "output_type": "display_data",
     "data": {
      "text/html": [
       "<style scoped>\n",
       "  .table-result-container {\n",
       "    max-height: 300px;\n",
       "    overflow: auto;\n",
       "  }\n",
       "  table, th, td {\n",
       "    border: 1px solid black;\n",
       "    border-collapse: collapse;\n",
       "  }\n",
       "  th, td {\n",
       "    padding: 5px;\n",
       "  }\n",
       "  th {\n",
       "    text-align: left;\n",
       "  }\n",
       "</style><div class='table-result-container'><table class='table-result'><thead style='background-color: white'><tr><th>imdb_id</th><th>title</th><th>plot</th><th>type</th><th>rated</th><th>year</th><th>runtime</th><th>genre</th><th>director</th><th>writer</th><th>actors</th><th>language</th><th>country</th><th>awards</th><th>metascore</th><th>imdb_rating</th><th>imdb_votes</th><th>released_date</th><th>added_date</th><th>Wins</th><th>Nominations</th><th>imdb_votes_for</th></tr></thead><tbody><tr><td>tt2294629</td><td>Frozen</td><td>When the newly crowned Queen Elsa accidentally uses her power to turn things into ice to curse her home in infinite winter her sister Anna teams up with a mountain man his playful reindeer and a snowman to change the weather condition.</td><td>movie</td><td>PG</td><td>2013</td><td>102</td><td>Animation\\t Adventure\\t Comedy\\t Family\\t Fantasy\\t Musical</td><td>Chris Buck\\t Jennifer Lee</td><td>\"Jennifer Lee (screenplay by)\\t Hans Christian Andersen (story inspired by: \"\"The Snow Queen\"\" by)\\t Chris Buck (story by)\\t Jennifer Lee (story by)\\t Shane Morris (story by)\"</td><td>Kristen Bell\\t Idina Menzel\\t Jonathan Groff\\t Josh Gad</td><td>English\\t Norwegian</td><td>USA</td><td>Won 2 Oscars. Another 79 wins & 59 nominations.</td><td>75</td><td>7.5</td><td>551637</td><td>2013-11-27</td><td>2019-11-12</td><td>79</td><td>59</td><td>551637</td></tr></tbody></table></div>"
      ]
     },
     "metadata": {
      "application/vnd.databricks.v1+output": {
       "addedWidgets": {},
       "aggData": [],
       "aggError": "",
       "aggOverflow": false,
       "aggSchema": [],
       "aggSeriesLimitReached": false,
       "aggType": "",
       "arguments": {},
       "columnCustomDisplayInfos": {},
       "data": [
        [
         "tt2294629",
         "Frozen",
         "When the newly crowned Queen Elsa accidentally uses her power to turn things into ice to curse her home in infinite winter her sister Anna teams up with a mountain man his playful reindeer and a snowman to change the weather condition.",
         "movie",
         "PG",
         2013,
         102,
         "Animation\\t Adventure\\t Comedy\\t Family\\t Fantasy\\t Musical",
         "Chris Buck\\t Jennifer Lee",
         "\"Jennifer Lee (screenplay by)\\t Hans Christian Andersen (story inspired by: \"\"The Snow Queen\"\" by)\\t Chris Buck (story by)\\t Jennifer Lee (story by)\\t Shane Morris (story by)\"",
         "Kristen Bell\\t Idina Menzel\\t Jonathan Groff\\t Josh Gad",
         "English\\t Norwegian",
         "USA",
         "Won 2 Oscars. Another 79 wins & 59 nominations.",
         75,
         7.5,
         "551637",
         "2013-11-27",
         "2019-11-12",
         79,
         59,
         551637
        ]
       ],
       "datasetInfos": [],
       "dbfsResultPath": null,
       "isJsonSchema": true,
       "metadata": {},
       "overflow": false,
       "plotOptions": {
        "customPlotOptions": {},
        "displayType": "table",
        "pivotAggregation": null,
        "pivotColumns": null,
        "xColumns": null,
        "yColumns": null
       },
       "removedWidgets": [],
       "schema": [
        {
         "metadata": "{}",
         "name": "imdb_id",
         "type": "\"string\""
        },
        {
         "metadata": "{}",
         "name": "title",
         "type": "\"string\""
        },
        {
         "metadata": "{}",
         "name": "plot",
         "type": "\"string\""
        },
        {
         "metadata": "{}",
         "name": "type",
         "type": "\"string\""
        },
        {
         "metadata": "{}",
         "name": "rated",
         "type": "\"string\""
        },
        {
         "metadata": "{}",
         "name": "year",
         "type": "\"integer\""
        },
        {
         "metadata": "{}",
         "name": "runtime",
         "type": "\"integer\""
        },
        {
         "metadata": "{}",
         "name": "genre",
         "type": "\"string\""
        },
        {
         "metadata": "{}",
         "name": "director",
         "type": "\"string\""
        },
        {
         "metadata": "{}",
         "name": "writer",
         "type": "\"string\""
        },
        {
         "metadata": "{}",
         "name": "actors",
         "type": "\"string\""
        },
        {
         "metadata": "{}",
         "name": "language",
         "type": "\"string\""
        },
        {
         "metadata": "{}",
         "name": "country",
         "type": "\"string\""
        },
        {
         "metadata": "{}",
         "name": "awards",
         "type": "\"string\""
        },
        {
         "metadata": "{}",
         "name": "metascore",
         "type": "\"integer\""
        },
        {
         "metadata": "{}",
         "name": "imdb_rating",
         "type": "\"float\""
        },
        {
         "metadata": "{}",
         "name": "imdb_votes",
         "type": "\"string\""
        },
        {
         "metadata": "{}",
         "name": "released_date",
         "type": "\"date\""
        },
        {
         "metadata": "{}",
         "name": "added_date",
         "type": "\"date\""
        },
        {
         "metadata": "{}",
         "name": "Wins",
         "type": "\"integer\""
        },
        {
         "metadata": "{}",
         "name": "Nominations",
         "type": "\"integer\""
        },
        {
         "metadata": "{}",
         "name": "imdb_votes_for",
         "type": "\"integer\""
        }
       ],
       "type": "table"
      }
     },
     "output_type": "display_data"
    }
   ],
   "source": [
    "display(df_disney.filter(df_disney.title =='Frozen'))"
   ]
  },
  {
   "cell_type": "code",
   "execution_count": 0,
   "metadata": {
    "application/vnd.databricks.v1+cell": {
     "cellMetadata": {
      "byteLimit": 2048000,
      "rowLimit": 10000
     },
     "inputWidgets": {},
     "nuid": "827b4412-8b64-4acc-9816-b997fe96cc9c",
     "showTitle": false,
     "title": ""
    }
   },
   "outputs": [],
   "source": [
    "#save the cleaned data to the cleaned folder\n",
    "df_disney.write.mode('overwrite').csv('/mnt/projectnew_mount/cleaned/disney/', header=True)"
   ]
  },
  {
   "cell_type": "markdown",
   "metadata": {
    "application/vnd.databricks.v1+cell": {
     "cellMetadata": {},
     "inputWidgets": {},
     "nuid": "4c0324b7-30d6-4f56-82e5-b882986673c2",
     "showTitle": false,
     "title": ""
    }
   },
   "source": [
    "### Netflix dataset Transformation"
   ]
  },
  {
   "cell_type": "code",
   "execution_count": 0,
   "metadata": {
    "application/vnd.databricks.v1+cell": {
     "cellMetadata": {
      "byteLimit": 2048000,
      "rowLimit": 10000
     },
     "inputWidgets": {},
     "nuid": "97b6226d-56ce-43bb-a71a-4d1c59a51ded",
     "showTitle": false,
     "title": ""
    }
   },
   "outputs": [],
   "source": [
    "df_netflix=spark.read.csv('/mnt/projectnew_mount/netflix_titles.csv', inferSchema=True, header=True)"
   ]
  },
  {
   "cell_type": "code",
   "execution_count": 0,
   "metadata": {
    "application/vnd.databricks.v1+cell": {
     "cellMetadata": {
      "byteLimit": 2048000,
      "rowLimit": 10000
     },
     "inputWidgets": {},
     "nuid": "7bcab3c3-2040-4183-9dbc-ba485d98f916",
     "showTitle": false,
     "title": ""
    }
   },
   "outputs": [
    {
     "output_type": "display_data",
     "data": {
      "text/html": [
       "<style scoped>\n",
       "  .table-result-container {\n",
       "    max-height: 300px;\n",
       "    overflow: auto;\n",
       "  }\n",
       "  table, th, td {\n",
       "    border: 1px solid black;\n",
       "    border-collapse: collapse;\n",
       "  }\n",
       "  th, td {\n",
       "    padding: 5px;\n",
       "  }\n",
       "  th {\n",
       "    text-align: left;\n",
       "  }\n",
       "</style><div class='table-result-container'><table class='table-result'><thead style='background-color: white'><tr><th>show_id</th><th>type</th><th>title</th><th>director</th><th>cast</th><th>country</th><th>date_added</th><th>release_year</th><th>rating</th><th>duration</th><th>listed_in</th><th>description</th></tr></thead><tbody><tr><td>s1</td><td>Movie</td><td>Dick Johnson Is Dead</td><td>Kirsten Johnson</td><td>null</td><td>United States</td><td>25-Sep-21</td><td>2020</td><td>PG-13</td><td>90 min</td><td>Documentaries</td><td>As her father nears the end of his life filmmaker Kirsten Johnson stages his death in inventive and comical ways to help them both face the inevitable.</td></tr><tr><td>s2</td><td>TV Show</td><td>Blood & Water</td><td>null</td><td>Ama Qamata, Khosi Ngema, Gail Mabalane, Thabang Molaba, Dillon Windvogel, Natasha Thahane, Arno Greeff, Xolile Tshabalala, Getmore Sithole, Cindy Mahlangu, Ryle De Morny, Greteli Fincham, Sello Maake Ka-Ncube, Odwa Gwanya, Mekaila Mathys, Sandi Schultz, Duane Williams, Shamilla Miller, Patrick Mofokeng</td><td>South Africa</td><td>24-Sep-21</td><td>2021</td><td>TV-MA</td><td>2 Seasons</td><td>International TV Shows, TV Dramas, TV Mysteries</td><td>After crossing paths at a party a Cape Town teen sets out to prove whether a private-school swimming star is her sister who was abducted at birth.</td></tr><tr><td>s3</td><td>TV Show</td><td>Ganglands</td><td>Julien Leclercq</td><td>Sami Bouajila, Tracy Gotoas, Samuel Jouy, Nabiha Akkari, Sofia Lesaffre, Salim Kechiouche, Noureddine Farihi, Geert Van Rampelberg, Bakary Diombera</td><td>null</td><td>24-Sep-21</td><td>2021</td><td>TV-MA</td><td>1 Season</td><td>Crime TV Shows, International TV Shows, TV Action & Adventure</td><td>To protect his family from a powerful drug lord skilled thief Mehdi and his expert team of robbers are pulled into a violent and deadly turf war.</td></tr><tr><td>s4</td><td>TV Show</td><td>Jailbirds New Orleans</td><td>null</td><td>null</td><td>null</td><td>24-Sep-21</td><td>2021</td><td>TV-MA</td><td>1 Season</td><td>Docuseries, Reality TV</td><td>Feuds flirtations and toilet talk go down among the incarcerated women at the Orleans Justice Center in New Orleans on this gritty reality series.</td></tr><tr><td>s5</td><td>TV Show</td><td>Kota Factory</td><td>null</td><td>Mayur More, Jitendra Kumar, Ranjan Raj, Alam Khan, Ahsaas Channa, Revathi Pillai, Urvi Singh, Arun Kumar</td><td>India</td><td>24-Sep-21</td><td>2021</td><td>TV-MA</td><td>2 Seasons</td><td>International TV Shows, Romantic TV Shows, TV Comedies</td><td>In a city of coaching centers known to train India’s finest collegiate minds an earnest but unexceptional student and his friends navigate campus life.</td></tr><tr><td>s6</td><td>TV Show</td><td>Midnight Mass</td><td>Mike Flanagan</td><td>Kate Siegel, Zach Gilford, Hamish Linklater, Henry Thomas, Kristin Lehman, Samantha Sloyan, Igby Rigney, Rahul Kohli, Annarah Cymone, Annabeth Gish, Alex Essoe, Rahul Abburi, Matt Biedel, Michael Trucco, Crystal Balint, Louis Oliver</td><td>null</td><td>24-Sep-21</td><td>2021</td><td>TV-MA</td><td>1 Season</td><td>TV Dramas, TV Horror, TV Mysteries</td><td>The arrival of a charismatic young priest brings glorious miracles ominous mysteries and renewed religious fervor to a dying town desperate to believe.</td></tr><tr><td>s7</td><td>Movie</td><td>My Little Pony: A New Generation</td><td>Robert Cullen, José Luis Ucha</td><td>Vanessa Hudgens, Kimiko Glenn, James Marsden, Sofia Carson, Liza Koshy, Ken Jeong, Elizabeth Perkins, Jane Krakowski, Michael McKean, Phil LaMarr</td><td>null</td><td>24-Sep-21</td><td>2021</td><td>PG</td><td>91 min</td><td>Children & Family Movies</td><td>Equestria's divided. But a bright-eyed hero believes Earth Ponies Pegasi and Unicorns should be pals — and hoof to heart she’s determined to prove it.</td></tr><tr><td>s8</td><td>Movie</td><td>Sankofa</td><td>Haile Gerima</td><td>Kofi Ghanaba, Oyafunmike Ogunlano, Alexandra Duah, Nick Medley, Mutabaruka, Afemo Omilami, Reggie Carter, Mzuri</td><td>United States, Ghana, Burkina Faso, United Kingdom, Germany, Ethiopia</td><td>24-Sep-21</td><td>1993</td><td>TV-MA</td><td>125 min</td><td>Dramas, Independent Movies, International Movies</td><td>On a photo shoot in Ghana an American model slips back in time becomes enslaved on a plantation and bears witness to the agony of her ancestral past.</td></tr><tr><td>s9</td><td>TV Show</td><td>The Great British Baking Show</td><td>Andy Devonshire</td><td>Mel Giedroyc, Sue Perkins, Mary Berry, Paul Hollywood</td><td>United Kingdom</td><td>24-Sep-21</td><td>2021</td><td>TV-14</td><td>9 Seasons</td><td>British TV Shows, Reality TV</td><td>A talented batch of amateur bakers face off in a 10-week competition whipping up their best dishes in the hopes of being named the U.K.'s best.</td></tr><tr><td>s10</td><td>Movie</td><td>The Starling</td><td>Theodore Melfi</td><td>Melissa McCarthy, Chris O'Dowd, Kevin Kline, Timothy Olyphant, Daveed Diggs, Skyler Gisondo, Laura Harrier, Rosalind Chao, Kimberly Quinn, Loretta Devine, Ravi Kapoor</td><td>United States</td><td>24-Sep-21</td><td>2021</td><td>PG-13</td><td>104 min</td><td>Comedies, Dramas</td><td>A woman adjusting to life after a loss contends with a feisty bird that's taken over her garden — and a husband who's struggling to find a way forward.</td></tr></tbody></table></div>"
      ]
     },
     "metadata": {
      "application/vnd.databricks.v1+output": {
       "addedWidgets": {},
       "aggData": [],
       "aggError": "",
       "aggOverflow": false,
       "aggSchema": [],
       "aggSeriesLimitReached": false,
       "aggType": "",
       "arguments": {},
       "columnCustomDisplayInfos": {},
       "data": [
        [
         "s1",
         "Movie",
         "Dick Johnson Is Dead",
         "Kirsten Johnson",
         null,
         "United States",
         "25-Sep-21",
         "2020",
         "PG-13",
         "90 min",
         "Documentaries",
         "As her father nears the end of his life filmmaker Kirsten Johnson stages his death in inventive and comical ways to help them both face the inevitable."
        ],
        [
         "s2",
         "TV Show",
         "Blood & Water",
         null,
         "Ama Qamata, Khosi Ngema, Gail Mabalane, Thabang Molaba, Dillon Windvogel, Natasha Thahane, Arno Greeff, Xolile Tshabalala, Getmore Sithole, Cindy Mahlangu, Ryle De Morny, Greteli Fincham, Sello Maake Ka-Ncube, Odwa Gwanya, Mekaila Mathys, Sandi Schultz, Duane Williams, Shamilla Miller, Patrick Mofokeng",
         "South Africa",
         "24-Sep-21",
         "2021",
         "TV-MA",
         "2 Seasons",
         "International TV Shows, TV Dramas, TV Mysteries",
         "After crossing paths at a party a Cape Town teen sets out to prove whether a private-school swimming star is her sister who was abducted at birth."
        ],
        [
         "s3",
         "TV Show",
         "Ganglands",
         "Julien Leclercq",
         "Sami Bouajila, Tracy Gotoas, Samuel Jouy, Nabiha Akkari, Sofia Lesaffre, Salim Kechiouche, Noureddine Farihi, Geert Van Rampelberg, Bakary Diombera",
         null,
         "24-Sep-21",
         "2021",
         "TV-MA",
         "1 Season",
         "Crime TV Shows, International TV Shows, TV Action & Adventure",
         "To protect his family from a powerful drug lord skilled thief Mehdi and his expert team of robbers are pulled into a violent and deadly turf war."
        ],
        [
         "s4",
         "TV Show",
         "Jailbirds New Orleans",
         null,
         null,
         null,
         "24-Sep-21",
         "2021",
         "TV-MA",
         "1 Season",
         "Docuseries, Reality TV",
         "Feuds flirtations and toilet talk go down among the incarcerated women at the Orleans Justice Center in New Orleans on this gritty reality series."
        ],
        [
         "s5",
         "TV Show",
         "Kota Factory",
         null,
         "Mayur More, Jitendra Kumar, Ranjan Raj, Alam Khan, Ahsaas Channa, Revathi Pillai, Urvi Singh, Arun Kumar",
         "India",
         "24-Sep-21",
         "2021",
         "TV-MA",
         "2 Seasons",
         "International TV Shows, Romantic TV Shows, TV Comedies",
         "In a city of coaching centers known to train India’s finest collegiate minds an earnest but unexceptional student and his friends navigate campus life."
        ],
        [
         "s6",
         "TV Show",
         "Midnight Mass",
         "Mike Flanagan",
         "Kate Siegel, Zach Gilford, Hamish Linklater, Henry Thomas, Kristin Lehman, Samantha Sloyan, Igby Rigney, Rahul Kohli, Annarah Cymone, Annabeth Gish, Alex Essoe, Rahul Abburi, Matt Biedel, Michael Trucco, Crystal Balint, Louis Oliver",
         null,
         "24-Sep-21",
         "2021",
         "TV-MA",
         "1 Season",
         "TV Dramas, TV Horror, TV Mysteries",
         "The arrival of a charismatic young priest brings glorious miracles ominous mysteries and renewed religious fervor to a dying town desperate to believe."
        ],
        [
         "s7",
         "Movie",
         "My Little Pony: A New Generation",
         "Robert Cullen, José Luis Ucha",
         "Vanessa Hudgens, Kimiko Glenn, James Marsden, Sofia Carson, Liza Koshy, Ken Jeong, Elizabeth Perkins, Jane Krakowski, Michael McKean, Phil LaMarr",
         null,
         "24-Sep-21",
         "2021",
         "PG",
         "91 min",
         "Children & Family Movies",
         "Equestria's divided. But a bright-eyed hero believes Earth Ponies Pegasi and Unicorns should be pals — and hoof to heart she’s determined to prove it."
        ],
        [
         "s8",
         "Movie",
         "Sankofa",
         "Haile Gerima",
         "Kofi Ghanaba, Oyafunmike Ogunlano, Alexandra Duah, Nick Medley, Mutabaruka, Afemo Omilami, Reggie Carter, Mzuri",
         "United States, Ghana, Burkina Faso, United Kingdom, Germany, Ethiopia",
         "24-Sep-21",
         "1993",
         "TV-MA",
         "125 min",
         "Dramas, Independent Movies, International Movies",
         "On a photo shoot in Ghana an American model slips back in time becomes enslaved on a plantation and bears witness to the agony of her ancestral past."
        ],
        [
         "s9",
         "TV Show",
         "The Great British Baking Show",
         "Andy Devonshire",
         "Mel Giedroyc, Sue Perkins, Mary Berry, Paul Hollywood",
         "United Kingdom",
         "24-Sep-21",
         "2021",
         "TV-14",
         "9 Seasons",
         "British TV Shows, Reality TV",
         "A talented batch of amateur bakers face off in a 10-week competition whipping up their best dishes in the hopes of being named the U.K.'s best."
        ],
        [
         "s10",
         "Movie",
         "The Starling",
         "Theodore Melfi",
         "Melissa McCarthy, Chris O'Dowd, Kevin Kline, Timothy Olyphant, Daveed Diggs, Skyler Gisondo, Laura Harrier, Rosalind Chao, Kimberly Quinn, Loretta Devine, Ravi Kapoor",
         "United States",
         "24-Sep-21",
         "2021",
         "PG-13",
         "104 min",
         "Comedies, Dramas",
         "A woman adjusting to life after a loss contends with a feisty bird that's taken over her garden — and a husband who's struggling to find a way forward."
        ]
       ],
       "datasetInfos": [],
       "dbfsResultPath": null,
       "isJsonSchema": true,
       "metadata": {},
       "overflow": false,
       "plotOptions": {
        "customPlotOptions": {},
        "displayType": "table",
        "pivotAggregation": null,
        "pivotColumns": null,
        "xColumns": null,
        "yColumns": null
       },
       "removedWidgets": [],
       "schema": [
        {
         "metadata": "{}",
         "name": "show_id",
         "type": "\"string\""
        },
        {
         "metadata": "{}",
         "name": "type",
         "type": "\"string\""
        },
        {
         "metadata": "{}",
         "name": "title",
         "type": "\"string\""
        },
        {
         "metadata": "{}",
         "name": "director",
         "type": "\"string\""
        },
        {
         "metadata": "{}",
         "name": "cast",
         "type": "\"string\""
        },
        {
         "metadata": "{}",
         "name": "country",
         "type": "\"string\""
        },
        {
         "metadata": "{}",
         "name": "date_added",
         "type": "\"string\""
        },
        {
         "metadata": "{}",
         "name": "release_year",
         "type": "\"string\""
        },
        {
         "metadata": "{}",
         "name": "rating",
         "type": "\"string\""
        },
        {
         "metadata": "{}",
         "name": "duration",
         "type": "\"string\""
        },
        {
         "metadata": "{}",
         "name": "listed_in",
         "type": "\"string\""
        },
        {
         "metadata": "{}",
         "name": "description",
         "type": "\"string\""
        }
       ],
       "type": "table"
      }
     },
     "output_type": "display_data"
    }
   ],
   "source": [
    "display(df_netflix.limit(10))"
   ]
  },
  {
   "cell_type": "code",
   "execution_count": 0,
   "metadata": {
    "application/vnd.databricks.v1+cell": {
     "cellMetadata": {
      "byteLimit": 2048000,
      "rowLimit": 10000
     },
     "inputWidgets": {},
     "nuid": "dcd2e64a-75f0-48fe-9275-59f598474d61",
     "showTitle": false,
     "title": ""
    }
   },
   "outputs": [
    {
     "output_type": "stream",
     "name": "stdout",
     "output_type": "stream",
     "text": [
      "root\n |-- show_id: string (nullable = true)\n |-- type: string (nullable = true)\n |-- title: string (nullable = true)\n |-- director: string (nullable = true)\n |-- cast: string (nullable = true)\n |-- country: string (nullable = true)\n |-- date_added: string (nullable = true)\n |-- release_year: string (nullable = true)\n |-- rating: string (nullable = true)\n |-- duration: string (nullable = true)\n |-- listed_in: string (nullable = true)\n |-- description: string (nullable = true)\n\n"
     ]
    }
   ],
   "source": [
    "df_netflix.printSchema()"
   ]
  },
  {
   "cell_type": "code",
   "execution_count": 0,
   "metadata": {
    "application/vnd.databricks.v1+cell": {
     "cellMetadata": {
      "byteLimit": 2048000,
      "rowLimit": 10000
     },
     "inputWidgets": {},
     "nuid": "45bf7f68-d01b-4e95-9cee-d48a034a6f95",
     "showTitle": false,
     "title": ""
    }
   },
   "outputs": [
    {
     "output_type": "stream",
     "name": "stdout",
     "output_type": "stream",
     "text": [
      "+-------+-------+--------------------+--------------------+--------------------+--------------------+----------+------------+------+---------+--------------------+--------------------+\n|show_id|   type|               title|            director|                cast|             country|date_added|release_year|rating| duration|           listed_in|         description|\n+-------+-------+--------------------+--------------------+--------------------+--------------------+----------+------------+------+---------+--------------------+--------------------+\n|     s1|  Movie|Dick Johnson Is Dead|     Kirsten Johnson|                null|       United States|2021-09-25|        2020| PG-13|   90 min|       Documentaries|As her father nea...|\n|     s2|TV Show|       Blood & Water|                null|Ama Qamata, Khosi...|        South Africa|2021-09-24|        2021| TV-MA|2 Seasons|International TV ...|After crossing pa...|\n|     s3|TV Show|           Ganglands|     Julien Leclercq|Sami Bouajila, Tr...|                null|2021-09-24|        2021| TV-MA| 1 Season|Crime TV Shows, I...|To protect his fa...|\n|     s4|TV Show|Jailbirds New Orl...|                null|                null|                null|2021-09-24|        2021| TV-MA| 1 Season|Docuseries, Reali...|Feuds flirtations...|\n|     s5|TV Show|        Kota Factory|                null|Mayur More, Jiten...|               India|2021-09-24|        2021| TV-MA|2 Seasons|International TV ...|In a city of coac...|\n|     s6|TV Show|       Midnight Mass|       Mike Flanagan|Kate Siegel, Zach...|                null|2021-09-24|        2021| TV-MA| 1 Season|TV Dramas, TV Hor...|The arrival of a ...|\n|     s7|  Movie|My Little Pony: A...|Robert Cullen, Jo...|Vanessa Hudgens, ...|                null|2021-09-24|        2021|    PG|   91 min|Children & Family...|Equestria's divid...|\n|     s8|  Movie|             Sankofa|        Haile Gerima|Kofi Ghanaba, Oya...|United States, Gh...|2021-09-24|        1993| TV-MA|  125 min|Dramas, Independe...|On a photo shoot ...|\n|     s9|TV Show|The Great British...|     Andy Devonshire|Mel Giedroyc, Sue...|      United Kingdom|2021-09-24|        2021| TV-14|9 Seasons|British TV Shows,...|A talented batch ...|\n|    s10|  Movie|        The Starling|      Theodore Melfi|Melissa McCarthy,...|       United States|2021-09-24|        2021| PG-13|  104 min|    Comedies, Dramas|A woman adjusting...|\n|    s11|TV Show|Vendetta: Truth L...|                null|                null|                null|2021-09-24|        2021| TV-MA| 1 Season|Crime TV Shows, D...|\"Sicily boasts a ...|\n|    s12|TV Show|    Bangkok Breaking|   Kongkiat Komesiri|Sukollawat Kanaro...|                null|2021-09-23|        2021| TV-MA| 1 Season|Crime TV Shows, I...|Struggling to ear...|\n|    s13|  Movie|        Je Suis Karl| Christian Schwochow|Luna Wedler, Jann...|Germany, Czech Re...|2021-09-23|        2021| TV-MA|  127 min|Dramas, Internati...|After most of her...|\n|    s14|  Movie|Confessions of an...|       Bruno Garotti|Klara Castanho, L...|                null|2021-09-22|        2021| TV-PG|   91 min|Children & Family...|When the clever b...|\n|    s15|TV Show|Crime Stories: In...|                null|                null|                null|2021-09-22|        2021| TV-MA| 1 Season|British TV Shows,...|Cameras following...|\n|    s16|TV Show|   Dear White People|                null|Logan Browning, B...|       United States|2021-09-22|        2021| TV-MA|4 Seasons|TV Comedies, TV D...|\"Students of colo...|\n|    s17|  Movie|Europe's Most Dan...|Pedro de Echave G...|                null|                null|2021-09-22|        2020| TV-MA|   67 min|Documentaries, In...|Declassified docu...|\n|    s18|TV Show|     Falsa identidad|                null|Luis Ernesto Fran...|              Mexico|2021-09-22|        2020| TV-MA|2 Seasons|Crime TV Shows, S...|Strangers Diego a...|\n|    s19|  Movie|           Intrusion|          Adam Salky|Freida Pinto, Log...|                null|2021-09-22|        2021| TV-14|   94 min|           Thrillers|After a deadly ho...|\n|    s20|TV Show|              Jaguar|                null|Blanca Suárez, Iv...|                null|2021-09-22|        2021| TV-MA| 1 Season|International TV ...|In the 1960s a Ho...|\n+-------+-------+--------------------+--------------------+--------------------+--------------------+----------+------------+------+---------+--------------------+--------------------+\nonly showing top 20 rows\n\n"
     ]
    }
   ],
   "source": [
    "#Define the date format\n",
    "date_format = \"dd-MMM-yy\"\n",
    "\n",
    "# Cast the string column to a date column\n",
    "df_netflix = df_netflix.withColumn(\"date_added\", to_date(col(\"date_added\"), date_format))\n",
    "\n",
    "# Show the updated DataFrame\n",
    "df_netflix.show()"
   ]
  },
  {
   "cell_type": "code",
   "execution_count": 0,
   "metadata": {
    "application/vnd.databricks.v1+cell": {
     "cellMetadata": {
      "byteLimit": 2048000,
      "rowLimit": 10000
     },
     "inputWidgets": {},
     "nuid": "f66c121a-78d9-4ad2-bd1e-e4166921cbed",
     "showTitle": false,
     "title": ""
    }
   },
   "outputs": [
    {
     "output_type": "stream",
     "name": "stdout",
     "output_type": "stream",
     "text": [
      "+-------+-------+--------------------+--------------------+--------------------+--------------------+----------+------------+------+--------+--------------------+--------------------+\n|show_id|   type|               title|            director|                cast|             country|date_added|release_year|rating|duration|           listed_in|         description|\n+-------+-------+--------------------+--------------------+--------------------+--------------------+----------+------------+------+--------+--------------------+--------------------+\n|     s1|  Movie|Dick Johnson Is Dead|     Kirsten Johnson|                null|       United States|2021-09-25|        2020| PG-13|      90|       Documentaries|As her father nea...|\n|     s2|TV Show|       Blood & Water|                null|Ama Qamata, Khosi...|        South Africa|2021-09-24|        2021| TV-MA|       2|International TV ...|After crossing pa...|\n|     s3|TV Show|           Ganglands|     Julien Leclercq|Sami Bouajila, Tr...|                null|2021-09-24|        2021| TV-MA|       1|Crime TV Shows, I...|To protect his fa...|\n|     s4|TV Show|Jailbirds New Orl...|                null|                null|                null|2021-09-24|        2021| TV-MA|       1|Docuseries, Reali...|Feuds flirtations...|\n|     s5|TV Show|        Kota Factory|                null|Mayur More, Jiten...|               India|2021-09-24|        2021| TV-MA|       2|International TV ...|In a city of coac...|\n|     s6|TV Show|       Midnight Mass|       Mike Flanagan|Kate Siegel, Zach...|                null|2021-09-24|        2021| TV-MA|       1|TV Dramas, TV Hor...|The arrival of a ...|\n|     s7|  Movie|My Little Pony: A...|Robert Cullen, Jo...|Vanessa Hudgens, ...|                null|2021-09-24|        2021|    PG|      91|Children & Family...|Equestria's divid...|\n|     s8|  Movie|             Sankofa|        Haile Gerima|Kofi Ghanaba, Oya...|United States, Gh...|2021-09-24|        1993| TV-MA|     125|Dramas, Independe...|On a photo shoot ...|\n|     s9|TV Show|The Great British...|     Andy Devonshire|Mel Giedroyc, Sue...|      United Kingdom|2021-09-24|        2021| TV-14|       9|British TV Shows,...|A talented batch ...|\n|    s10|  Movie|        The Starling|      Theodore Melfi|Melissa McCarthy,...|       United States|2021-09-24|        2021| PG-13|     104|    Comedies, Dramas|A woman adjusting...|\n|    s11|TV Show|Vendetta: Truth L...|                null|                null|                null|2021-09-24|        2021| TV-MA|       1|Crime TV Shows, D...|\"Sicily boasts a ...|\n|    s12|TV Show|    Bangkok Breaking|   Kongkiat Komesiri|Sukollawat Kanaro...|                null|2021-09-23|        2021| TV-MA|       1|Crime TV Shows, I...|Struggling to ear...|\n|    s13|  Movie|        Je Suis Karl| Christian Schwochow|Luna Wedler, Jann...|Germany, Czech Re...|2021-09-23|        2021| TV-MA|     127|Dramas, Internati...|After most of her...|\n|    s14|  Movie|Confessions of an...|       Bruno Garotti|Klara Castanho, L...|                null|2021-09-22|        2021| TV-PG|      91|Children & Family...|When the clever b...|\n|    s15|TV Show|Crime Stories: In...|                null|                null|                null|2021-09-22|        2021| TV-MA|       1|British TV Shows,...|Cameras following...|\n|    s16|TV Show|   Dear White People|                null|Logan Browning, B...|       United States|2021-09-22|        2021| TV-MA|       4|TV Comedies, TV D...|\"Students of colo...|\n|    s17|  Movie|Europe's Most Dan...|Pedro de Echave G...|                null|                null|2021-09-22|        2020| TV-MA|      67|Documentaries, In...|Declassified docu...|\n|    s18|TV Show|     Falsa identidad|                null|Luis Ernesto Fran...|              Mexico|2021-09-22|        2020| TV-MA|       2|Crime TV Shows, S...|Strangers Diego a...|\n|    s19|  Movie|           Intrusion|          Adam Salky|Freida Pinto, Log...|                null|2021-09-22|        2021| TV-14|      94|           Thrillers|After a deadly ho...|\n|    s20|TV Show|              Jaguar|                null|Blanca Suárez, Iv...|                null|2021-09-22|        2021| TV-MA|       1|International TV ...|In the 1960s a Ho...|\n+-------+-------+--------------------+--------------------+--------------------+--------------------+----------+------------+------+--------+--------------------+--------------------+\nonly showing top 20 rows\n\n"
     ]
    }
   ],
   "source": [
    "# Use regular expressions to extract numeric values\n",
    "#extracted_duration = regexp_extract(col(\"duration\"), r\"(\\d+)\", 1)\n",
    "\n",
    "# Convert the extracted values to integers\n",
    "#df_netflix = df_netflix.withColumn(\"duration\", extracted_duration.cast(\"int\"))\n",
    "\n",
    "split_values = split(col(\"duration\"), \" \")\n",
    "numeric_value = split_values.getItem(0)\n",
    "\n",
    "# Cast the extracted value to integer\n",
    "df_netflix = df_netflix.withColumn(\"duration\", numeric_value.cast(\"int\"))\n",
    "# Show the updated DataFrame\n",
    "df_netflix.show(truncate=True)\n"
   ]
  },
  {
   "cell_type": "code",
   "execution_count": 0,
   "metadata": {
    "application/vnd.databricks.v1+cell": {
     "cellMetadata": {
      "byteLimit": 2048000,
      "rowLimit": 10000
     },
     "inputWidgets": {},
     "nuid": "3cba4ebf-2244-460d-bc07-2d1e443ce04e",
     "showTitle": false,
     "title": ""
    }
   },
   "outputs": [
    {
     "output_type": "stream",
     "name": "stdout",
     "output_type": "stream",
     "text": [
      "+----------+--------+\n|date_added|duration|\n+----------+--------+\n|2021-09-25|      90|\n|2021-09-24|       2|\n|2021-09-24|       1|\n|2021-09-24|       1|\n|2021-09-24|       2|\n|2021-09-24|       1|\n|2021-09-24|      91|\n|2021-09-24|     125|\n|2021-09-24|       9|\n|2021-09-24|     104|\n|2021-09-24|       1|\n|2021-09-23|       1|\n|2021-09-23|     127|\n|2021-09-22|      91|\n|2021-09-22|       1|\n|2021-09-22|       4|\n|2021-09-22|      67|\n|2021-09-22|       2|\n|2021-09-22|      94|\n|2021-09-22|       1|\n+----------+--------+\nonly showing top 20 rows\n\n"
     ]
    }
   ],
   "source": [
    "df_netflix.select(\"date_added\", \"duration\").show()"
   ]
  },
  {
   "cell_type": "code",
   "execution_count": 0,
   "metadata": {
    "application/vnd.databricks.v1+cell": {
     "cellMetadata": {
      "byteLimit": 2048000,
      "rowLimit": 10000
     },
     "inputWidgets": {},
     "nuid": "97ef4591-f7b4-4bf1-9dba-5157c808dc7f",
     "showTitle": false,
     "title": ""
    }
   },
   "outputs": [],
   "source": [
    "df_netflix = df_netflix.withColumn(\"release_year\", col(\"release_year\").cast(\"int\"))"
   ]
  },
  {
   "cell_type": "code",
   "execution_count": 0,
   "metadata": {
    "application/vnd.databricks.v1+cell": {
     "cellMetadata": {
      "byteLimit": 2048000,
      "rowLimit": 10000
     },
     "inputWidgets": {},
     "nuid": "4d7e66e3-a479-47ff-81ce-9545afc99e57",
     "showTitle": false,
     "title": ""
    }
   },
   "outputs": [
    {
     "output_type": "stream",
     "name": "stdout",
     "output_type": "stream",
     "text": [
      "+------------+\n|release_year|\n+------------+\n|        2020|\n|        2021|\n|        2021|\n|        2021|\n|        2021|\n|        2021|\n|        2021|\n|        1993|\n|        2021|\n|        2021|\n|        2021|\n|        2021|\n|        2021|\n|        2021|\n|        2021|\n|        2021|\n|        2020|\n|        2020|\n|        2021|\n|        2021|\n+------------+\nonly showing top 20 rows\n\n"
     ]
    }
   ],
   "source": [
    "df_netflix.select(\"release_year\").show()"
   ]
  },
  {
   "cell_type": "code",
   "execution_count": 0,
   "metadata": {
    "application/vnd.databricks.v1+cell": {
     "cellMetadata": {
      "byteLimit": 2048000,
      "rowLimit": 10000
     },
     "inputWidgets": {},
     "nuid": "b14dc87f-04cf-4ad5-9659-b1e6b47baf6d",
     "showTitle": false,
     "title": ""
    }
   },
   "outputs": [
    {
     "output_type": "stream",
     "name": "stdout",
     "output_type": "stream",
     "text": [
      "+-------------------------------------------------------------+------------------------+\n|listed_in                                                    |listed_in_individual    |\n+-------------------------------------------------------------+------------------------+\n|Documentaries                                                |Documentaries           |\n|International TV Shows, TV Dramas, TV Mysteries              |International TV Shows  |\n|International TV Shows, TV Dramas, TV Mysteries              |TV Dramas               |\n|International TV Shows, TV Dramas, TV Mysteries              |TV Mysteries            |\n|Crime TV Shows, International TV Shows, TV Action & Adventure|Crime TV Shows          |\n|Crime TV Shows, International TV Shows, TV Action & Adventure|International TV Shows  |\n|Crime TV Shows, International TV Shows, TV Action & Adventure|TV Action & Adventure   |\n|Docuseries, Reality TV                                       |Docuseries              |\n|Docuseries, Reality TV                                       |Reality TV              |\n|International TV Shows, Romantic TV Shows, TV Comedies       |International TV Shows  |\n|International TV Shows, Romantic TV Shows, TV Comedies       |Romantic TV Shows       |\n|International TV Shows, Romantic TV Shows, TV Comedies       |TV Comedies             |\n|TV Dramas, TV Horror, TV Mysteries                           |TV Dramas               |\n|TV Dramas, TV Horror, TV Mysteries                           |TV Horror               |\n|TV Dramas, TV Horror, TV Mysteries                           |TV Mysteries            |\n|Children & Family Movies                                     |Children & Family Movies|\n|Dramas, Independent Movies, International Movies             |Dramas                  |\n|Dramas, Independent Movies, International Movies             |Independent Movies      |\n|Dramas, Independent Movies, International Movies             |International Movies    |\n|British TV Shows, Reality TV                                 |British TV Shows        |\n+-------------------------------------------------------------+------------------------+\nonly showing top 20 rows\n\n"
     ]
    }
   ],
   "source": [
    "\n",
    "from pyspark.sql.functions import explode\n",
    "df_exploded = df_netflix.withColumn(\"listed_in_individual\", explode(split(df_netflix.listed_in, \", \")))\n",
    "df_exploded.select(\"listed_in\",\"listed_in_individual\").show(truncate=False)"
   ]
  },
  {
   "cell_type": "code",
   "execution_count": 0,
   "metadata": {
    "application/vnd.databricks.v1+cell": {
     "cellMetadata": {
      "byteLimit": 2048000,
      "rowLimit": 10000
     },
     "inputWidgets": {},
     "nuid": "5f86a85b-8cff-4e5b-b65f-a6b9257ef6a9",
     "showTitle": false,
     "title": ""
    }
   },
   "outputs": [],
   "source": [
    "df_tv_shows = df_exploded.withColumn(\"country_individual\", explode(split(df_exploded.country, \", \")))"
   ]
  },
  {
   "cell_type": "code",
   "execution_count": 0,
   "metadata": {
    "application/vnd.databricks.v1+cell": {
     "cellMetadata": {
      "byteLimit": 2048000,
      "rowLimit": 10000
     },
     "inputWidgets": {},
     "nuid": "a6b2ad58-14f5-4a44-9a4c-c6274eb01412",
     "showTitle": false,
     "title": ""
    }
   },
   "outputs": [
    {
     "output_type": "stream",
     "name": "stdout",
     "output_type": "stream",
     "text": [
      "+------------------+\n|country_individual|\n+------------------+\n|     United States|\n|      South Africa|\n|      South Africa|\n|      South Africa|\n|             India|\n|             India|\n|             India|\n|     United States|\n|             Ghana|\n|      Burkina Faso|\n|    United Kingdom|\n|           Germany|\n|          Ethiopia|\n|     United States|\n|             Ghana|\n|      Burkina Faso|\n|    United Kingdom|\n|           Germany|\n|          Ethiopia|\n|     United States|\n+------------------+\nonly showing top 20 rows\n\n"
     ]
    }
   ],
   "source": [
    "df_tv_shows.select(\"country_individual\").show()"
   ]
  },
  {
   "cell_type": "code",
   "execution_count": 0,
   "metadata": {
    "application/vnd.databricks.v1+cell": {
     "cellMetadata": {
      "byteLimit": 2048000,
      "rowLimit": 10000
     },
     "inputWidgets": {},
     "nuid": "02b892cb-323f-41a8-9f9c-e8c341c49412",
     "showTitle": false,
     "title": ""
    }
   },
   "outputs": [
    {
     "output_type": "stream",
     "name": "stdout",
     "output_type": "stream",
     "text": [
      "Out[107]: ['show_id',\n 'type',\n 'title',\n 'director',\n 'cast',\n 'country',\n 'date_added',\n 'release_year',\n 'rating',\n 'duration',\n 'listed_in',\n 'description',\n 'listed_in_individual',\n 'country_individual']"
     ]
    }
   ],
   "source": [
    "df_tv_shows.columns"
   ]
  },
  {
   "cell_type": "code",
   "execution_count": 0,
   "metadata": {
    "application/vnd.databricks.v1+cell": {
     "cellMetadata": {
      "byteLimit": 2048000,
      "rowLimit": 10000
     },
     "inputWidgets": {},
     "nuid": "92d87db9-5c03-46f5-b161-8102291673f6",
     "showTitle": false,
     "title": ""
    }
   },
   "outputs": [
    {
     "output_type": "stream",
     "name": "stdout",
     "output_type": "stream",
     "text": [
      "Out[108]: 1"
     ]
    }
   ],
   "source": [
    "df_tv_shows.rdd.getNumPartitions()"
   ]
  },
  {
   "cell_type": "code",
   "execution_count": 0,
   "metadata": {
    "application/vnd.databricks.v1+cell": {
     "cellMetadata": {
      "byteLimit": 2048000,
      "rowLimit": 10000
     },
     "inputWidgets": {},
     "nuid": "fe01bc89-a6d3-4f33-b16d-5a0329d5b8a7",
     "showTitle": false,
     "title": ""
    }
   },
   "outputs": [],
   "source": [
    "#save the cleaned data to the cleaned folder\n",
    "#df_amazon.write.csv('/mnt/project_mount/cleaned/amazon/', header=True)\n",
    "df_tv_shows.write.mode('overwrite').csv('/mnt/projectnew_mount/cleaned/netflix/', header=True)"
   ]
  },
  {
   "cell_type": "code",
   "execution_count": 0,
   "metadata": {
    "application/vnd.databricks.v1+cell": {
     "cellMetadata": {
      "byteLimit": 2048000,
      "rowLimit": 10000
     },
     "inputWidgets": {},
     "nuid": "232a01bb-b571-454a-b18e-c0af79e10a39",
     "showTitle": false,
     "title": ""
    }
   },
   "outputs": [
    {
     "output_type": "display_data",
     "data": {
      "text/plain": [
       "\u001B[0;31m---------------------------------------------------------------------------\u001B[0m\n",
       "\u001B[0;31mExecutionError\u001B[0m                            Traceback (most recent call last)\n",
       "File \u001B[0;32m<command-1137696980438333>:1\u001B[0m\n",
       "\u001B[0;32m----> 1\u001B[0m \u001B[43mdbutils\u001B[49m\u001B[38;5;241;43m.\u001B[39;49m\u001B[43mfs\u001B[49m\u001B[38;5;241;43m.\u001B[39;49m\u001B[43munmount\u001B[49m\u001B[43m(\u001B[49m\u001B[38;5;124;43m'\u001B[39;49m\u001B[38;5;124;43m/mnt/projectnew_mount\u001B[39;49m\u001B[38;5;124;43m'\u001B[39;49m\u001B[43m)\u001B[49m\n",
       "\n",
       "File \u001B[0;32m/databricks/python_shell/dbruntime/dbutils.py:362\u001B[0m, in \u001B[0;36mDBUtils.FSHandler.prettify_exception_message.<locals>.f_with_exception_handling\u001B[0;34m(*args, **kwargs)\u001B[0m\n",
       "\u001B[1;32m    360\u001B[0m exc\u001B[38;5;241m.\u001B[39m__context__ \u001B[38;5;241m=\u001B[39m \u001B[38;5;28;01mNone\u001B[39;00m\n",
       "\u001B[1;32m    361\u001B[0m exc\u001B[38;5;241m.\u001B[39m__cause__ \u001B[38;5;241m=\u001B[39m \u001B[38;5;28;01mNone\u001B[39;00m\n",
       "\u001B[0;32m--> 362\u001B[0m \u001B[38;5;28;01mraise\u001B[39;00m exc\n",
       "\n",
       "\u001B[0;31mExecutionError\u001B[0m: An error occurred while calling o1711.unmount.\n",
       ": java.rmi.RemoteException: java.lang.IllegalArgumentException: requirement failed: Directory not mounted: /mnt/projectnew_mount; nested exception is: \n",
       "\tjava.lang.IllegalArgumentException: requirement failed: Directory not mounted: /mnt/projectnew_mount\n",
       "\tat com.databricks.backend.daemon.data.client.DbfsClient.send0(DbfsClient.scala:135)\n",
       "\tat com.databricks.backend.daemon.data.client.DbfsClient.sendIdempotent(DbfsClient.scala:69)\n",
       "\tat com.databricks.backend.daemon.dbutils.DBUtilsCore.unmount(DBUtilsCore.scala:1296)\n",
       "\tat com.databricks.backend.daemon.dbutils.DBUtilsCore.$anonfun$unmount$1(DBUtilsCore.scala:1312)\n",
       "\tat com.databricks.logging.UsageLogging.$anonfun$recordOperation$1(UsageLogging.scala:555)\n",
       "\tat com.databricks.logging.UsageLogging.executeThunkAndCaptureResultTags$1(UsageLogging.scala:650)\n",
       "\tat com.databricks.logging.UsageLogging.$anonfun$recordOperationWithResultTags$4(UsageLogging.scala:671)\n",
       "\tat com.databricks.logging.UsageLogging.$anonfun$withAttributionContext$1(UsageLogging.scala:412)\n",
       "\tat scala.util.DynamicVariable.withValue(DynamicVariable.scala:62)\n",
       "\tat com.databricks.logging.AttributionContext$.withValue(AttributionContext.scala:158)\n",
       "\tat com.databricks.logging.UsageLogging.withAttributionContext(UsageLogging.scala:410)\n",
       "\tat com.databricks.logging.UsageLogging.withAttributionContext$(UsageLogging.scala:407)\n",
       "\tat com.databricks.backend.daemon.dbutils.FSUtils.withAttributionContext(DBUtilsCore.scala:69)\n",
       "\tat com.databricks.logging.UsageLogging.withAttributionTags(UsageLogging.scala:455)\n",
       "\tat com.databricks.logging.UsageLogging.withAttributionTags$(UsageLogging.scala:440)\n",
       "\tat com.databricks.backend.daemon.dbutils.FSUtils.withAttributionTags(DBUtilsCore.scala:69)\n",
       "\tat com.databricks.logging.UsageLogging.recordOperationWithResultTags(UsageLogging.scala:645)\n",
       "\tat com.databricks.logging.UsageLogging.recordOperationWithResultTags$(UsageLogging.scala:564)\n",
       "\tat com.databricks.backend.daemon.dbutils.FSUtils.recordOperationWithResultTags(DBUtilsCore.scala:69)\n",
       "\tat com.databricks.logging.UsageLogging.recordOperation(UsageLogging.scala:555)\n",
       "\tat com.databricks.logging.UsageLogging.recordOperation$(UsageLogging.scala:525)\n",
       "\tat com.databricks.backend.daemon.dbutils.FSUtils.recordOperation(DBUtilsCore.scala:69)\n",
       "\tat com.databricks.backend.daemon.dbutils.FSUtils.recordDbutilsFsOp(DBUtilsCore.scala:133)\n",
       "\tat com.databricks.backend.daemon.dbutils.DBUtilsCore.unmount(DBUtilsCore.scala:1312)\n",
       "\tat sun.reflect.NativeMethodAccessorImpl.invoke0(Native Method)\n",
       "\tat sun.reflect.NativeMethodAccessorImpl.invoke(NativeMethodAccessorImpl.java:62)\n",
       "\tat sun.reflect.DelegatingMethodAccessorImpl.invoke(DelegatingMethodAccessorImpl.java:43)\n",
       "\tat java.lang.reflect.Method.invoke(Method.java:498)\n",
       "\tat py4j.reflection.MethodInvoker.invoke(MethodInvoker.java:244)\n",
       "\tat py4j.reflection.ReflectionEngine.invoke(ReflectionEngine.java:380)\n",
       "\tat py4j.Gateway.invoke(Gateway.java:306)\n",
       "\tat py4j.commands.AbstractCommand.invokeMethod(AbstractCommand.java:132)\n",
       "\tat py4j.commands.CallCommand.execute(CallCommand.java:79)\n",
       "\tat py4j.ClientServerConnection.waitForCommands(ClientServerConnection.java:195)\n",
       "\tat py4j.ClientServerConnection.run(ClientServerConnection.java:115)\n",
       "\tat java.lang.Thread.run(Thread.java:750)\n",
       "Caused by: java.lang.IllegalArgumentException: requirement failed: Directory not mounted: /mnt/projectnew_mount\n",
       "\tat scala.Predef$.require(Predef.scala:281)\n",
       "\tat com.databricks.backend.daemon.data.server.DefaultMetadataManager.$anonfun$deleteMount$1(MetadataManager.scala:676)\n",
       "\tat com.databricks.backend.daemon.data.server.DefaultMetadataManager.$anonfun$modifyAndVerify$2(MetadataManager.scala:948)\n",
       "\tat scala.runtime.java8.JFunction0$mcV$sp.apply(JFunction0$mcV$sp.java:23)\n",
       "\tat com.databricks.backend.daemon.data.server.DefaultMetadataManager.withRetries(MetadataManager.scala:729)\n",
       "\tat com.databricks.backend.daemon.data.server.DefaultMetadataManager.modifyAndVerify(MetadataManager.scala:937)\n",
       "\tat com.databricks.backend.daemon.data.server.DefaultMetadataManager.deleteMount(MetadataManager.scala:680)\n",
       "\tat com.databricks.backend.daemon.data.server.handler.MountHandler.receive(MountHandler.scala:141)\n",
       "\tat com.databricks.backend.daemon.data.server.session.SessionContext.$anonfun$queryHandlers$1(SessionContext.scala:54)\n",
       "\tat com.databricks.backend.daemon.data.server.session.SessionContext.$anonfun$queryHandlers$1$adapted(SessionContext.scala:53)\n",
       "\tat scala.collection.immutable.List.foreach(List.scala:431)\n",
       "\tat com.databricks.backend.daemon.data.server.session.SessionContext.queryHandlers(SessionContext.scala:53)\n",
       "\tat com.databricks.backend.daemon.data.server.DbfsServerBackend$$anonfun$receive$4.$anonfun$applyOrElse$5(DbfsServerBackend.scala:387)\n",
       "\tat com.databricks.logging.UsageLogging.$anonfun$withAttributionContext$1(UsageLogging.scala:426)\n",
       "\tat scala.util.DynamicVariable.withValue(DynamicVariable.scala:62)\n",
       "\tat com.databricks.logging.AttributionContext$.withValue(AttributionContext.scala:196)\n",
       "\tat com.databricks.logging.UsageLogging.withAttributionContext(UsageLogging.scala:424)\n",
       "\tat com.databricks.logging.UsageLogging.withAttributionContext$(UsageLogging.scala:418)\n",
       "\tat com.databricks.rpc.ServerBackend.withAttributionContext(ServerBackend.scala:22)\n",
       "\tat com.databricks.logging.UsageLogging.withAttributionTags(UsageLogging.scala:470)\n",
       "\tat com.databricks.logging.UsageLogging.withAttributionTags$(UsageLogging.scala:455)\n",
       "\tat com.databricks.rpc.ServerBackend.withAttributionTags(ServerBackend.scala:22)\n",
       "\tat com.databricks.backend.daemon.data.server.DbfsServerBackend$$anonfun$receive$4.applyOrElse(DbfsServerBackend.scala:387)\n",
       "\tat com.databricks.backend.daemon.data.server.DbfsServerBackend$$anonfun$receive$4.applyOrElse(DbfsServerBackend.scala:331)\n",
       "\tat com.databricks.rpc.ServerBackend.$anonfun$internalReceive0$2(ServerBackend.scala:174)\n",
       "\tat com.databricks.rpc.ServerBackend$$anonfun$commonReceive$1.applyOrElse(ServerBackend.scala:200)\n",
       "\tat com.databricks.rpc.ServerBackend$$anonfun$commonReceive$1.applyOrElse(ServerBackend.scala:200)\n",
       "\tat com.databricks.rpc.ServerBackend.internalReceive0(ServerBackend.scala:171)\n",
       "\tat com.databricks.rpc.ServerBackend.$anonfun$internalReceive$1(ServerBackend.scala:147)\n",
       "\tat com.databricks.logging.UsageLogging.$anonfun$recordOperation$1(UsageLogging.scala:571)\n",
       "\tat com.databricks.logging.UsageLogging.executeThunkAndCaptureResultTags$1(UsageLogging.scala:666)\n",
       "\tat com.databricks.logging.UsageLogging.$anonfun$recordOperationWithResultTags$4(UsageLogging.scala:684)\n",
       "\tat com.databricks.logging.UsageLogging.$anonfun$withAttributionContext$1(UsageLogging.scala:426)\n",
       "\tat scala.util.DynamicVariable.withValue(DynamicVariable.scala:62)\n",
       "\tat com.databricks.logging.AttributionContext$.withValue(AttributionContext.scala:196)\n",
       "\tat com.databricks.logging.UsageLogging.withAttributionContext(UsageLogging.scala:424)\n",
       "\tat com.databricks.logging.UsageLogging.withAttributionContext$(UsageLogging.scala:418)\n",
       "\tat com.databricks.rpc.ServerBackend.withAttributionContext(ServerBackend.scala:22)\n",
       "\tat com.databricks.logging.UsageLogging.withAttributionTags(UsageLogging.scala:470)\n",
       "\tat com.databricks.logging.UsageLogging.withAttributionTags$(UsageLogging.scala:455)\n",
       "\tat com.databricks.rpc.ServerBackend.withAttributionTags(ServerBackend.scala:22)\n",
       "\tat com.databricks.logging.UsageLogging.recordOperationWithResultTags(UsageLogging.scala:661)\n",
       "\tat com.databricks.logging.UsageLogging.recordOperationWithResultTags$(UsageLogging.scala:580)\n",
       "\tat com.databricks.rpc.ServerBackend.recordOperationWithResultTags(ServerBackend.scala:22)\n",
       "\tat com.databricks.logging.UsageLogging.recordOperation(UsageLogging.scala:571)\n",
       "\tat com.databricks.logging.UsageLogging.recordOperation$(UsageLogging.scala:540)\n",
       "\tat com.databricks.rpc.ServerBackend.recordOperation(ServerBackend.scala:22)\n",
       "\tat com.databricks.rpc.ServerBackend.internalReceive(ServerBackend.scala:147)\n",
       "\tat com.databricks.rpc.JettyServer$RequestManager.handleRPC(JettyServer.scala:1037)\n",
       "\tat com.databricks.rpc.JettyServer$RequestManager.handleRequestAndRespond(JettyServer.scala:948)\n",
       "\tat com.databricks.rpc.JettyServer$RequestManager.$anonfun$handleHttp$6(JettyServer.scala:540)\n",
       "\tat com.databricks.rpc.JettyServer$RequestManager.$anonfun$handleHttp$6$adapted(JettyServer.scala:515)\n",
       "\tat com.databricks.logging.activity.ActivityContextFactory$.$anonfun$withActivityInternal$3(ActivityContextFactory.scala:420)\n",
       "\tat com.databricks.logging.UsageLogging.$anonfun$withAttributionContext$1(UsageLogging.scala:426)\n",
       "\tat scala.util.DynamicVariable.withValue(DynamicVariable.scala:62)\n",
       "\tat com.databricks.logging.AttributionContext$.withValue(AttributionContext.scala:196)\n",
       "\tat com.databricks.logging.UsageLogging.withAttributionContext(UsageLogging.scala:424)\n",
       "\tat com.databricks.logging.UsageLogging.withAttributionContext$(UsageLogging.scala:418)\n",
       "\tat com.databricks.logging.activity.ActivityContextFactory$.withAttributionContext(ActivityContextFactory.scala:55)\n",
       "\tat com.databricks.logging.activity.ActivityContextFactory$.withActivityInternal(ActivityContextFactory.scala:420)\n",
       "\tat com.databricks.logging.activity.ActivityContextFactory$.withServiceRequestActivity(ActivityContextFactory.scala:179)\n",
       "\tat com.databricks.rpc.JettyServer$RequestManager.handleHttp(JettyServer.scala:515)\n",
       "\tat com.databricks.rpc.JettyServer$RequestManager.doPost(JettyServer.scala:404)\n",
       "\tat javax.servlet.http.HttpServlet.service(HttpServlet.java:707)\n",
       "\tat com.databricks.rpc.HttpServletWithPatch.service(HttpServletWithPatch.scala:33)\n",
       "\tat javax.servlet.http.HttpServlet.service(HttpServlet.java:790)\n",
       "\tat org.eclipse.jetty.servlet.ServletHolder.handle(ServletHolder.java:848)\n",
       "\tat org.eclipse.jetty.servlet.ServletHandler.doHandle(ServletHandler.java:585)\n",
       "\tat org.eclipse.jetty.servlet.ServletHandler.doScope(ServletHandler.java:515)\n",
       "\tat org.eclipse.jetty.server.handler.ScopedHandler.handle(ScopedHandler.java:141)\n",
       "\tat org.eclipse.jetty.server.handler.HandlerWrapper.handle(HandlerWrapper.java:134)\n",
       "\tat org.eclipse.jetty.server.Server.handle(Server.java:539)\n",
       "\tat org.eclipse.jetty.server.HttpChannel.handle(HttpChannel.java:333)\n",
       "\tat org.eclipse.jetty.server.HttpConnection.onFillable(HttpConnection.java:251)\n",
       "\tat org.eclipse.jetty.io.AbstractConnection$ReadCallback.succeeded(AbstractConnection.java:283)\n",
       "\tat org.eclipse.jetty.io.FillInterest.fillable(FillInterest.java:108)\n",
       "\tat org.eclipse.jetty.io.SelectChannelEndPoint$2.run(SelectChannelEndPoint.java:93)\n",
       "\tat org.eclipse.jetty.util.thread.strategy.ExecuteProduceConsume.executeProduceConsume(ExecuteProduceConsume.java:303)\n",
       "\tat org.eclipse.jetty.util.thread.strategy.ExecuteProduceConsume.produceConsume(ExecuteProduceConsume.java:148)\n",
       "\tat org.eclipse.jetty.util.thread.strategy.ExecuteProduceConsume.run(ExecuteProduceConsume.java:136)\n",
       "\tat com.databricks.rpc.InstrumentedQueuedThreadPool$$anon$1.$anonfun$run$1(InstrumentedQueuedThreadPool.scala:83)\n",
       "\tat scala.runtime.java8.JFunction0$mcV$sp.apply(JFunction0$mcV$sp.java:23)\n",
       "\tat com.databricks.instrumentation.QueuedThreadPoolInstrumenter.trackActiveThreads(QueuedThreadPoolInstrumenter.scala:66)\n",
       "\tat com.databricks.instrumentation.QueuedThreadPoolInstrumenter.trackActiveThreads$(QueuedThreadPoolInstrumenter.scala:63)\n",
       "\tat com.databricks.rpc.InstrumentedQueuedThreadPool.trackActiveThreads(InstrumentedQueuedThreadPool.scala:49)\n",
       "\tat com.databricks.rpc.InstrumentedQueuedThreadPool$$anon$1.run(InstrumentedQueuedThreadPool.scala:78)\n",
       "\tat org.eclipse.jetty.util.thread.QueuedThreadPool.runJob(QueuedThreadPool.java:671)\n",
       "\tat org.eclipse.jetty.util.thread.QueuedThreadPool$2.run(QueuedThreadPool.java:589)\n",
       "\t... 1 more\n"
      ]
     },
     "metadata": {
      "application/vnd.databricks.v1+output": {
       "arguments": {},
       "data": "\u001B[0;31m---------------------------------------------------------------------------\u001B[0m\n\u001B[0;31mExecutionError\u001B[0m                            Traceback (most recent call last)\nFile \u001B[0;32m<command-1137696980438333>:1\u001B[0m\n\u001B[0;32m----> 1\u001B[0m \u001B[43mdbutils\u001B[49m\u001B[38;5;241;43m.\u001B[39;49m\u001B[43mfs\u001B[49m\u001B[38;5;241;43m.\u001B[39;49m\u001B[43munmount\u001B[49m\u001B[43m(\u001B[49m\u001B[38;5;124;43m'\u001B[39;49m\u001B[38;5;124;43m/mnt/projectnew_mount\u001B[39;49m\u001B[38;5;124;43m'\u001B[39;49m\u001B[43m)\u001B[49m\n\nFile \u001B[0;32m/databricks/python_shell/dbruntime/dbutils.py:362\u001B[0m, in \u001B[0;36mDBUtils.FSHandler.prettify_exception_message.<locals>.f_with_exception_handling\u001B[0;34m(*args, **kwargs)\u001B[0m\n\u001B[1;32m    360\u001B[0m exc\u001B[38;5;241m.\u001B[39m__context__ \u001B[38;5;241m=\u001B[39m \u001B[38;5;28;01mNone\u001B[39;00m\n\u001B[1;32m    361\u001B[0m exc\u001B[38;5;241m.\u001B[39m__cause__ \u001B[38;5;241m=\u001B[39m \u001B[38;5;28;01mNone\u001B[39;00m\n\u001B[0;32m--> 362\u001B[0m \u001B[38;5;28;01mraise\u001B[39;00m exc\n\n\u001B[0;31mExecutionError\u001B[0m: An error occurred while calling o1711.unmount.\n: java.rmi.RemoteException: java.lang.IllegalArgumentException: requirement failed: Directory not mounted: /mnt/projectnew_mount; nested exception is: \n\tjava.lang.IllegalArgumentException: requirement failed: Directory not mounted: /mnt/projectnew_mount\n\tat com.databricks.backend.daemon.data.client.DbfsClient.send0(DbfsClient.scala:135)\n\tat com.databricks.backend.daemon.data.client.DbfsClient.sendIdempotent(DbfsClient.scala:69)\n\tat com.databricks.backend.daemon.dbutils.DBUtilsCore.unmount(DBUtilsCore.scala:1296)\n\tat com.databricks.backend.daemon.dbutils.DBUtilsCore.$anonfun$unmount$1(DBUtilsCore.scala:1312)\n\tat com.databricks.logging.UsageLogging.$anonfun$recordOperation$1(UsageLogging.scala:555)\n\tat com.databricks.logging.UsageLogging.executeThunkAndCaptureResultTags$1(UsageLogging.scala:650)\n\tat com.databricks.logging.UsageLogging.$anonfun$recordOperationWithResultTags$4(UsageLogging.scala:671)\n\tat com.databricks.logging.UsageLogging.$anonfun$withAttributionContext$1(UsageLogging.scala:412)\n\tat scala.util.DynamicVariable.withValue(DynamicVariable.scala:62)\n\tat com.databricks.logging.AttributionContext$.withValue(AttributionContext.scala:158)\n\tat com.databricks.logging.UsageLogging.withAttributionContext(UsageLogging.scala:410)\n\tat com.databricks.logging.UsageLogging.withAttributionContext$(UsageLogging.scala:407)\n\tat com.databricks.backend.daemon.dbutils.FSUtils.withAttributionContext(DBUtilsCore.scala:69)\n\tat com.databricks.logging.UsageLogging.withAttributionTags(UsageLogging.scala:455)\n\tat com.databricks.logging.UsageLogging.withAttributionTags$(UsageLogging.scala:440)\n\tat com.databricks.backend.daemon.dbutils.FSUtils.withAttributionTags(DBUtilsCore.scala:69)\n\tat com.databricks.logging.UsageLogging.recordOperationWithResultTags(UsageLogging.scala:645)\n\tat com.databricks.logging.UsageLogging.recordOperationWithResultTags$(UsageLogging.scala:564)\n\tat com.databricks.backend.daemon.dbutils.FSUtils.recordOperationWithResultTags(DBUtilsCore.scala:69)\n\tat com.databricks.logging.UsageLogging.recordOperation(UsageLogging.scala:555)\n\tat com.databricks.logging.UsageLogging.recordOperation$(UsageLogging.scala:525)\n\tat com.databricks.backend.daemon.dbutils.FSUtils.recordOperation(DBUtilsCore.scala:69)\n\tat com.databricks.backend.daemon.dbutils.FSUtils.recordDbutilsFsOp(DBUtilsCore.scala:133)\n\tat com.databricks.backend.daemon.dbutils.DBUtilsCore.unmount(DBUtilsCore.scala:1312)\n\tat sun.reflect.NativeMethodAccessorImpl.invoke0(Native Method)\n\tat sun.reflect.NativeMethodAccessorImpl.invoke(NativeMethodAccessorImpl.java:62)\n\tat sun.reflect.DelegatingMethodAccessorImpl.invoke(DelegatingMethodAccessorImpl.java:43)\n\tat java.lang.reflect.Method.invoke(Method.java:498)\n\tat py4j.reflection.MethodInvoker.invoke(MethodInvoker.java:244)\n\tat py4j.reflection.ReflectionEngine.invoke(ReflectionEngine.java:380)\n\tat py4j.Gateway.invoke(Gateway.java:306)\n\tat py4j.commands.AbstractCommand.invokeMethod(AbstractCommand.java:132)\n\tat py4j.commands.CallCommand.execute(CallCommand.java:79)\n\tat py4j.ClientServerConnection.waitForCommands(ClientServerConnection.java:195)\n\tat py4j.ClientServerConnection.run(ClientServerConnection.java:115)\n\tat java.lang.Thread.run(Thread.java:750)\nCaused by: java.lang.IllegalArgumentException: requirement failed: Directory not mounted: /mnt/projectnew_mount\n\tat scala.Predef$.require(Predef.scala:281)\n\tat com.databricks.backend.daemon.data.server.DefaultMetadataManager.$anonfun$deleteMount$1(MetadataManager.scala:676)\n\tat com.databricks.backend.daemon.data.server.DefaultMetadataManager.$anonfun$modifyAndVerify$2(MetadataManager.scala:948)\n\tat scala.runtime.java8.JFunction0$mcV$sp.apply(JFunction0$mcV$sp.java:23)\n\tat com.databricks.backend.daemon.data.server.DefaultMetadataManager.withRetries(MetadataManager.scala:729)\n\tat com.databricks.backend.daemon.data.server.DefaultMetadataManager.modifyAndVerify(MetadataManager.scala:937)\n\tat com.databricks.backend.daemon.data.server.DefaultMetadataManager.deleteMount(MetadataManager.scala:680)\n\tat com.databricks.backend.daemon.data.server.handler.MountHandler.receive(MountHandler.scala:141)\n\tat com.databricks.backend.daemon.data.server.session.SessionContext.$anonfun$queryHandlers$1(SessionContext.scala:54)\n\tat com.databricks.backend.daemon.data.server.session.SessionContext.$anonfun$queryHandlers$1$adapted(SessionContext.scala:53)\n\tat scala.collection.immutable.List.foreach(List.scala:431)\n\tat com.databricks.backend.daemon.data.server.session.SessionContext.queryHandlers(SessionContext.scala:53)\n\tat com.databricks.backend.daemon.data.server.DbfsServerBackend$$anonfun$receive$4.$anonfun$applyOrElse$5(DbfsServerBackend.scala:387)\n\tat com.databricks.logging.UsageLogging.$anonfun$withAttributionContext$1(UsageLogging.scala:426)\n\tat scala.util.DynamicVariable.withValue(DynamicVariable.scala:62)\n\tat com.databricks.logging.AttributionContext$.withValue(AttributionContext.scala:196)\n\tat com.databricks.logging.UsageLogging.withAttributionContext(UsageLogging.scala:424)\n\tat com.databricks.logging.UsageLogging.withAttributionContext$(UsageLogging.scala:418)\n\tat com.databricks.rpc.ServerBackend.withAttributionContext(ServerBackend.scala:22)\n\tat com.databricks.logging.UsageLogging.withAttributionTags(UsageLogging.scala:470)\n\tat com.databricks.logging.UsageLogging.withAttributionTags$(UsageLogging.scala:455)\n\tat com.databricks.rpc.ServerBackend.withAttributionTags(ServerBackend.scala:22)\n\tat com.databricks.backend.daemon.data.server.DbfsServerBackend$$anonfun$receive$4.applyOrElse(DbfsServerBackend.scala:387)\n\tat com.databricks.backend.daemon.data.server.DbfsServerBackend$$anonfun$receive$4.applyOrElse(DbfsServerBackend.scala:331)\n\tat com.databricks.rpc.ServerBackend.$anonfun$internalReceive0$2(ServerBackend.scala:174)\n\tat com.databricks.rpc.ServerBackend$$anonfun$commonReceive$1.applyOrElse(ServerBackend.scala:200)\n\tat com.databricks.rpc.ServerBackend$$anonfun$commonReceive$1.applyOrElse(ServerBackend.scala:200)\n\tat com.databricks.rpc.ServerBackend.internalReceive0(ServerBackend.scala:171)\n\tat com.databricks.rpc.ServerBackend.$anonfun$internalReceive$1(ServerBackend.scala:147)\n\tat com.databricks.logging.UsageLogging.$anonfun$recordOperation$1(UsageLogging.scala:571)\n\tat com.databricks.logging.UsageLogging.executeThunkAndCaptureResultTags$1(UsageLogging.scala:666)\n\tat com.databricks.logging.UsageLogging.$anonfun$recordOperationWithResultTags$4(UsageLogging.scala:684)\n\tat com.databricks.logging.UsageLogging.$anonfun$withAttributionContext$1(UsageLogging.scala:426)\n\tat scala.util.DynamicVariable.withValue(DynamicVariable.scala:62)\n\tat com.databricks.logging.AttributionContext$.withValue(AttributionContext.scala:196)\n\tat com.databricks.logging.UsageLogging.withAttributionContext(UsageLogging.scala:424)\n\tat com.databricks.logging.UsageLogging.withAttributionContext$(UsageLogging.scala:418)\n\tat com.databricks.rpc.ServerBackend.withAttributionContext(ServerBackend.scala:22)\n\tat com.databricks.logging.UsageLogging.withAttributionTags(UsageLogging.scala:470)\n\tat com.databricks.logging.UsageLogging.withAttributionTags$(UsageLogging.scala:455)\n\tat com.databricks.rpc.ServerBackend.withAttributionTags(ServerBackend.scala:22)\n\tat com.databricks.logging.UsageLogging.recordOperationWithResultTags(UsageLogging.scala:661)\n\tat com.databricks.logging.UsageLogging.recordOperationWithResultTags$(UsageLogging.scala:580)\n\tat com.databricks.rpc.ServerBackend.recordOperationWithResultTags(ServerBackend.scala:22)\n\tat com.databricks.logging.UsageLogging.recordOperation(UsageLogging.scala:571)\n\tat com.databricks.logging.UsageLogging.recordOperation$(UsageLogging.scala:540)\n\tat com.databricks.rpc.ServerBackend.recordOperation(ServerBackend.scala:22)\n\tat com.databricks.rpc.ServerBackend.internalReceive(ServerBackend.scala:147)\n\tat com.databricks.rpc.JettyServer$RequestManager.handleRPC(JettyServer.scala:1037)\n\tat com.databricks.rpc.JettyServer$RequestManager.handleRequestAndRespond(JettyServer.scala:948)\n\tat com.databricks.rpc.JettyServer$RequestManager.$anonfun$handleHttp$6(JettyServer.scala:540)\n\tat com.databricks.rpc.JettyServer$RequestManager.$anonfun$handleHttp$6$adapted(JettyServer.scala:515)\n\tat com.databricks.logging.activity.ActivityContextFactory$.$anonfun$withActivityInternal$3(ActivityContextFactory.scala:420)\n\tat com.databricks.logging.UsageLogging.$anonfun$withAttributionContext$1(UsageLogging.scala:426)\n\tat scala.util.DynamicVariable.withValue(DynamicVariable.scala:62)\n\tat com.databricks.logging.AttributionContext$.withValue(AttributionContext.scala:196)\n\tat com.databricks.logging.UsageLogging.withAttributionContext(UsageLogging.scala:424)\n\tat com.databricks.logging.UsageLogging.withAttributionContext$(UsageLogging.scala:418)\n\tat com.databricks.logging.activity.ActivityContextFactory$.withAttributionContext(ActivityContextFactory.scala:55)\n\tat com.databricks.logging.activity.ActivityContextFactory$.withActivityInternal(ActivityContextFactory.scala:420)\n\tat com.databricks.logging.activity.ActivityContextFactory$.withServiceRequestActivity(ActivityContextFactory.scala:179)\n\tat com.databricks.rpc.JettyServer$RequestManager.handleHttp(JettyServer.scala:515)\n\tat com.databricks.rpc.JettyServer$RequestManager.doPost(JettyServer.scala:404)\n\tat javax.servlet.http.HttpServlet.service(HttpServlet.java:707)\n\tat com.databricks.rpc.HttpServletWithPatch.service(HttpServletWithPatch.scala:33)\n\tat javax.servlet.http.HttpServlet.service(HttpServlet.java:790)\n\tat org.eclipse.jetty.servlet.ServletHolder.handle(ServletHolder.java:848)\n\tat org.eclipse.jetty.servlet.ServletHandler.doHandle(ServletHandler.java:585)\n\tat org.eclipse.jetty.servlet.ServletHandler.doScope(ServletHandler.java:515)\n\tat org.eclipse.jetty.server.handler.ScopedHandler.handle(ScopedHandler.java:141)\n\tat org.eclipse.jetty.server.handler.HandlerWrapper.handle(HandlerWrapper.java:134)\n\tat org.eclipse.jetty.server.Server.handle(Server.java:539)\n\tat org.eclipse.jetty.server.HttpChannel.handle(HttpChannel.java:333)\n\tat org.eclipse.jetty.server.HttpConnection.onFillable(HttpConnection.java:251)\n\tat org.eclipse.jetty.io.AbstractConnection$ReadCallback.succeeded(AbstractConnection.java:283)\n\tat org.eclipse.jetty.io.FillInterest.fillable(FillInterest.java:108)\n\tat org.eclipse.jetty.io.SelectChannelEndPoint$2.run(SelectChannelEndPoint.java:93)\n\tat org.eclipse.jetty.util.thread.strategy.ExecuteProduceConsume.executeProduceConsume(ExecuteProduceConsume.java:303)\n\tat org.eclipse.jetty.util.thread.strategy.ExecuteProduceConsume.produceConsume(ExecuteProduceConsume.java:148)\n\tat org.eclipse.jetty.util.thread.strategy.ExecuteProduceConsume.run(ExecuteProduceConsume.java:136)\n\tat com.databricks.rpc.InstrumentedQueuedThreadPool$$anon$1.$anonfun$run$1(InstrumentedQueuedThreadPool.scala:83)\n\tat scala.runtime.java8.JFunction0$mcV$sp.apply(JFunction0$mcV$sp.java:23)\n\tat com.databricks.instrumentation.QueuedThreadPoolInstrumenter.trackActiveThreads(QueuedThreadPoolInstrumenter.scala:66)\n\tat com.databricks.instrumentation.QueuedThreadPoolInstrumenter.trackActiveThreads$(QueuedThreadPoolInstrumenter.scala:63)\n\tat com.databricks.rpc.InstrumentedQueuedThreadPool.trackActiveThreads(InstrumentedQueuedThreadPool.scala:49)\n\tat com.databricks.rpc.InstrumentedQueuedThreadPool$$anon$1.run(InstrumentedQueuedThreadPool.scala:78)\n\tat org.eclipse.jetty.util.thread.QueuedThreadPool.runJob(QueuedThreadPool.java:671)\n\tat org.eclipse.jetty.util.thread.QueuedThreadPool$2.run(QueuedThreadPool.java:589)\n\t... 1 more\n",
       "errorSummary": "java.rmi.RemoteException: java.lang.IllegalArgumentException: requirement failed: Directory not mounted: /mnt/projectnew_mount; nested exception is: ",
       "errorTraceType": "ansi",
       "metadata": {},
       "type": "ipynbError"
      }
     },
     "output_type": "display_data"
    }
   ],
   "source": [
    "dbutils.fs.unmount('/mnt/projectnew_mount')"
   ]
  },
  {
   "cell_type": "code",
   "execution_count": 0,
   "metadata": {
    "application/vnd.databricks.v1+cell": {
     "cellMetadata": {},
     "inputWidgets": {},
     "nuid": "34b448dd-338f-48fa-ba76-d5f0fef84e8b",
     "showTitle": false,
     "title": ""
    }
   },
   "outputs": [],
   "source": []
  }
 ],
 "metadata": {
  "application/vnd.databricks.v1+notebook": {
   "dashboards": [],
   "language": "python",
   "notebookMetadata": {
    "pythonIndentUnit": 4
   },
   "notebookName": "transformation_notebook",
   "widgets": {}
  }
 },
 "nbformat": 4,
 "nbformat_minor": 0
}
